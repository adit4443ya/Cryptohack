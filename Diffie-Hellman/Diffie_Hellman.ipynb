{
  "nbformat": 4,
  "nbformat_minor": 0,
  "metadata": {
    "colab": {
      "provenance": [],
      "collapsed_sections": [
        "Et4FS0nmSEMO",
        "VUZUloRfSGb5",
        "18jvUaWfSHiv",
        "dFjyV89BELrJ",
        "O--JEJYnE53i",
        "CLgheqEQE85Y"
      ]
    },
    "kernelspec": {
      "name": "python3",
      "display_name": "Python 3"
    },
    "language_info": {
      "name": "python"
    }
  },
  "cells": [
    {
      "cell_type": "markdown",
      "source": [
        "## Diffie - Hellman Starter 1\n",
        "\n",
        "**-Solution:**\n",
        "\n",
        ". Use `pow` function in python, it means to calculate `209^-1 mod 991`\n",
        "\n",
        ". That is for the coding fast way, if you want it to be more a bit mathematically, here the way is:\n",
        "\n",
        "   - We want to find d such that `g * d mod 991 = 1`. This is equivalent to solving the congruence equation `g * d ≡ 1 (mod 991)`. We can use the extended `Euclidean algorithm` to solve this equation.\n",
        "\n",
        "   - First, we need to find the greatest common divisor (gcd) of g and 991. We can do this using the Euclidean algorithm:\n",
        "\n",
        "    gcd(209, 991) = gcd(991, 209) = gcd(209, 155) = gcd(155, 54) = gcd(54, 47) = gcd(47, 7) = gcd(7, 2) = gcd(2, 1) = 1\n",
        "\n",
        "- So the gcd of 209 and 991 is 1, which means that they are coprime and there exists an inverse element d.\n",
        "\n",
        "- Next, we need to find the coefficients s and t such that s * 209 + t * 991 = gcd(209, 991) = 1. This can be done using the extended Euclidean algorithm:\n",
        "\n",
        "155 = 991 - 209 * 4\n",
        "\n",
        "54 = 209 - 155 * 1\n",
        "\n",
        "47 = 155 - 54 * 2\n",
        "\n",
        "7 = 54 - 47 * 1\n",
        "\n",
        "2 = 47 - 7 * 6\n",
        "\n",
        "1 = 7 - 2 * 3\n",
        "\n",
        "- So we have s = 3 and t = -19. Note that we can add or subtract multiples of 991 to t to get a positive value.\n",
        "\n",
        "- Finally, we can express d as d = s mod 991. In this case, we have d = 3 mod 991 = 569.\n",
        "\n",
        "Therefore, the inverse element of g modulo p=991 is d=569.\n",
        "\n",
        "**-Code:**   "
      ],
      "metadata": {
        "id": "uOPKTaEBSDYn"
      }
    },
    {
      "cell_type": "code",
      "execution_count": null,
      "metadata": {
        "id": "DNjjQFP0R-tR"
      },
      "outputs": [],
      "source": [
        "print(pow(209, -1, 991))\n",
        "#569"
      ]
    },
    {
      "cell_type": "markdown",
      "source": [
        "\n",
        "\n",
        "---\n",
        "\n"
      ],
      "metadata": {
        "id": "R2fice8qSDxo"
      }
    },
    {
      "cell_type": "markdown",
      "source": [
        "## Diffie - Hellman Starter 2\n",
        "\n",
        "**-Solution:**\n",
        "\n",
        ". Use brute-force :))\n",
        "\n",
        "**-Code:**"
      ],
      "metadata": {
        "id": "Et4FS0nmSEMO"
      }
    },
    {
      "cell_type": "code",
      "source": [
        "def order(g, p): \n",
        "    for i in range(2, p): \n",
        "        if pow(g, i, p) == g:\n",
        "            return i\n",
        "    return p\n",
        "\n",
        "p = 28151\n",
        "for g in range(2,p):\n",
        "    o = order(g, p)\n",
        "    if o == p:\n",
        "        print(g)\n",
        "        break\n",
        " #7"
      ],
      "metadata": {
        "id": "k3mQIL1wSCxu"
      },
      "execution_count": null,
      "outputs": []
    },
    {
      "cell_type": "markdown",
      "source": [
        "\n",
        "\n",
        "---\n",
        "\n"
      ],
      "metadata": {
        "id": "tuCYva-ZSF8-"
      }
    },
    {
      "cell_type": "markdown",
      "source": [
        "## Diffie - Hellman Starter 3\n",
        "\n",
        "**-Solution:**\n",
        "\n",
        "Then, calculate the value of `g^a mod p` \n",
        "\n",
        "About how to calculate, use `pow` function in python, remember to set the input in the code below.\n",
        "\n",
        "**-Code:**"
      ],
      "metadata": {
        "id": "VUZUloRfSGb5"
      }
    },
    {
      "cell_type": "code",
      "source": [
        "print(pow(g, a, p))\n",
        "#1806857697840726523322586721820911358489420128129248078673933653533930681676181753849411715714173604352323556558783759252661061186320274214883104886050164368129191719707402291577330485499513522368289395359523901406138025022522412429238971591272160519144672389532393673832265070057319485399793101182682177465364396277424717543434017666343807276970864475830391776403957550678362368319776566025118492062196941451265638054400177248572271342548616103967411990437357924"
      ],
      "metadata": {
        "id": "2y8VnJOgSGtm"
      },
      "execution_count": null,
      "outputs": []
    },
    {
      "cell_type": "markdown",
      "source": [
        "\n",
        "\n",
        "---\n",
        "\n"
      ],
      "metadata": {
        "id": "DK6fdmu-SG4W"
      }
    },
    {
      "cell_type": "markdown",
      "source": [
        "## Diffie - Hellman Starter 4\n",
        "\n",
        "**-Solution:**\n",
        "\n",
        ". Calculate $A^b \\mod p$ and Alice will do the same with $\\left({B, a, p}\\right)$.\n",
        "\n",
        "**-Code:**"
      ],
      "metadata": {
        "id": "18jvUaWfSHiv"
      }
    },
    {
      "cell_type": "code",
      "source": [
        "A = 70249943217595468278554541264975482909289174351516133994495821400710625291840101960595720462672604202133493023241393916394629829526272643847352371534839862030410331485087487331809285533195024369287293217083414424096866925845838641840923193480821332056735592483730921055532222505605661664236182285229504265881752580410194731633895345823963910901731715743835775619780738974844840425579683385344491015955892106904647602049559477279345982530488299847663103078045601\n",
        "\n",
        "b = 12019233252903990344598522535774963020395770409445296724034378433497976840167805970589960962221948290951873387728102115996831454482299243226839490999713763440412177965861508773420532266484619126710566414914227560103715336696193210379850575047730388378348266180934946139100479831339835896583443691529372703954589071507717917136906770122077739814262298488662138085608736103418601750861698417340264213867753834679359191427098195887112064503104510489610448294420720\n",
        "\n",
        "p = 2410312426921032588552076022197566074856950548502459942654116941958108831682612228890093858261341614673227141477904012196503648957050582631942730706805009223062734745341073406696246014589361659774041027169249453200378729434170325843778659198143763193776859869524088940195577346119843545301547043747207749969763750084308926339295559968882457872412993810129130294592999947926365264059284647209730384947211681434464714438488520940127459844288859336526896320919633919\n",
        "\n",
        "print(pow(A, b, p))\n",
        "#1174130740413820656533832746034841985877302086316388380165984436672307692443711310285014138545204369495478725102882673427892104539120952393788961051992901649694063179853598311473820341215879965343136351436410522850717408445802043003164658348006577408558693502220285700893404674592567626297571222027902631157072143330043118418467094237965591198440803970726604537807146703763571606861448354607502654664700390453794493176794678917352634029713320615865940720837909466"
      ],
      "metadata": {
        "id": "6HsCLcVDSHzt"
      },
      "execution_count": null,
      "outputs": []
    },
    {
      "cell_type": "markdown",
      "source": [
        "\n",
        "\n",
        "---\n",
        "\n"
      ],
      "metadata": {
        "id": "MzamUEmmSIF2"
      }
    },
    {
      "cell_type": "markdown",
      "source": [
        "## Diffie - Hellman Starter 5\n",
        "\n",
        "**-Solution:**\n",
        "\n",
        ". First, calculate shared secret $A^b \\mod p$. Then put all shared secret, iv and ciphertext to `decrypt.py` and run"
      ],
      "metadata": {
        "id": "dixnogiCSI1N"
      }
    },
    {
      "cell_type": "code",
      "source": [
        "#crypto{sh4r1ng_s3cret5_w1th_fr13nd5}"
      ],
      "metadata": {
        "id": "59ckE3fPSJF2"
      },
      "execution_count": null,
      "outputs": []
    },
    {
      "cell_type": "markdown",
      "source": [
        "\n",
        "\n",
        "---\n",
        "\n"
      ],
      "metadata": {
        "id": "HqRz3lwQSJP3"
      }
    },
    {
      "cell_type": "markdown",
      "source": [
        "## Parameter Injection\n",
        "\n",
        "**-Solution:**\n",
        "\n",
        ". Because you are the one who can read and change the message from Alice to Bob vice versa. So you can send to Bob random message and don't care about Bob's reply. After that send Alice `{\"B\": \"0x01\"}` because $1^{a} \\mod p = 1$ and then you have shared secrect is 1. Use `decrypt.py` in Diffie-Hellman Starter 5 to decrypt.\n",
        "\n",
        "\n",
        "**-Code:**"
      ],
      "metadata": {
        "id": "0FRA4N_b2ung"
      }
    },
    {
      "cell_type": "code",
      "source": [
        "~$ nc socket.cryptohack.org 13371\n",
        "\n",
        "Intercepted from Alice: {\"p\": \"0xffffffffffffffffc90fdaa22168c234c4c6628b80dc1cd129024e088a67cc74020bbea63b139b22514a08798e3404ddef9519b3cd3a431b302b0a6df25f14374fe1356d6d51c245e485b576625e7ec6f44c42e9a637ed6b0bff5cb6f406b7edee386bfb5a899fa5ae9f24117c4b1fe649286651ece45b3dc2007cb8a163bf0598da48361c55d39a69163fa8fd24cf5f83655d23dca3ad961c62f356208552bb9ed529077096966d670c354e4abc9804f1746c08ca237327ffffffffffffffff\", \"g\": \"0x02\", \"A\": \"0x56cfad49f8b300c3cd07f7316443438f207ef462139ec10db021379fc6be5b39fc4e8b1953a17399740f90214eaef6d504e2ccad0cdd6d971f6a8ec2f37d58f47a6b2bcba4921fa9e646cf19da91980d4cc7bd9627cb6ff94ec956aebd58d194233702aff44285e6bdf19614dcea89ed11a6bfa379d7d22f4bd77d4db3bcb40f00d5778ee4bf88bb71a31240b371a8b617c6607489b3024ddfdec5b7fdf4e8d0c8e07a740f07a4fd78cba008c0583c4dffd374b5f4950002b73711c02b1b7d4b\"}\n",
        "\n",
        "Send to Bob: {\"p\": \"0x01\", \"g\": \"0x01\", \"A\": \"0x01\"} \n",
        "\n",
        "Intercepted from Bob: {\"B\": \"0x0\"}\n",
        "\n",
        "Send to Alice: {\"B\": \"0x01\"}\n",
        "\n",
        "Intercepted from Alice: {\"iv\": \"7fe6ab5b6572ad7eba0d1970a610916e\", \"encrypted_flag\": \"2c45af1150e551260525e33e7d4c38c27769ccb5ce99297ae8718fac5e571f55\"}\n",
        "#crypto{n1c3_0n3_m4ll0ry!!!!!!!!}"
      ],
      "metadata": {
        "id": "ORSoEwam2vFZ"
      },
      "execution_count": null,
      "outputs": []
    },
    {
      "cell_type": "code",
      "source": [],
      "metadata": {
        "id": "-UuHt9Mgkd4j"
      },
      "execution_count": null,
      "outputs": []
    },
    {
      "cell_type": "markdown",
      "source": [
        "\n",
        "\n",
        "---\n",
        "\n"
      ],
      "metadata": {
        "id": "DCzwj8CA2vcT"
      }
    },
    {
      "cell_type": "markdown",
      "source": [
        "## Export-grade\n",
        "\n",
        "**-Solution:**\n",
        "\n",
        ". First, choose DH64 for easiest. After that, we got $A, B, p, g$.\n",
        "You can use `discrete_log(p, A, g)` to get $a$ and then shared secret is $B^a \\mod p$.\n",
        "Use `decrypt.py` to solve.\n",
        "\n",
        "**-Code:**"
      ],
      "metadata": {
        "id": "KfdUZoKg2wEJ"
      }
    },
    {
      "cell_type": "code",
      "source": [
        "~$ nc socket.cryptohack.org 13379\n",
        "Intercepted from Alice: {\"supported\": [\"DH1536\", \"DH1024\", \"DH512\", \"DH256\", \"DH128\", \"DH64\"]}\n",
        "\n",
        "Send to Bob: {\"supported\": [\"DH64\"]}\n",
        "\n",
        "Intercepted from Bob: {\"chosen\": \"DH64\"}\n",
        "\n",
        "Send to Alice: {\"chosen\": \"DH64\"}\n",
        "\n",
        "Intercepted from Alice: {\"p\": \"0xde26ab651b92a129\", \"g\": \"0x2\", \"A\": \"0x71bd503db85c8a69\"}\n",
        "Intercepted from Bob: {\"B\": \"0xcd0abfbbdf7db925\"}\n",
        "Intercepted from Alice: {\"iv\": \"622269623bd6382fe4d7ac542951f944\", \"encrypted_flag\": \"5901469760c0ff6b578a77a56f848ca59d6c7015f9df1ce452fe71a2a8082fd7\"}\n",
        "\n",
        "#crypto{d0wn6r4d35_4r3_d4n63r0u5}"
      ],
      "metadata": {
        "id": "wQWZ6yoD2wVg"
      },
      "execution_count": null,
      "outputs": []
    },
    {
      "cell_type": "markdown",
      "source": [
        "\n",
        "\n",
        "---\n",
        "\n"
      ],
      "metadata": {
        "id": "8W_IBgDc2wiw"
      }
    },
    {
      "cell_type": "markdown",
      "source": [
        "## Static Client \n",
        "\n",
        "**-Solution:**\n",
        "\n",
        ". We know that Bob will compute the $B = g^b \\mod p$ and the shared secret $s = A^b \\mod p$ then send $B$ and $s$ to Alice. So we can send to Bob $p' = p, g' = A$ and don't care about $A$, Bob will compute $B = g'^{b} \\mod p = A^b \\mod p = s$. And that's how we get the shared secret, use it to decrype Alice's encrypted text.\n",
        "\n",
        "**-Code:**"
      ],
      "metadata": {
        "id": "I1BHT_Ld4oJm"
      }
    },
    {
      "cell_type": "code",
      "source": [
        "~$ nc socket.cryptohack.org 13373\n",
        "\n",
        "Intercepted from Alice: {\"p\": \"0xffffffffffffffffc90fdaa22168c234c4c6628b80dc1cd129024e088a67cc74020bbea63b139b22514a08798e3404ddef9519b3cd3a431b302b0a6df25f14374fe1356d6d51c245e485b576625e7ec6f44c42e9a637ed6b0bff5cb6f406b7edee386bfb5a899fa5ae9f24117c4b1fe649286651ece45b3dc2007cb8a163bf0598da48361c55d39a69163fa8fd24cf5f83655d23dca3ad961c62f356208552bb9ed529077096966d670c354e4abc9804f1746c08ca237327ffffffffffffffff\", \"g\": \"0x02\", \"A\": \"0x14dd4766e622d2345b96774b97f668d253e38691e3ec7a45c54367709d869046d653ff980f72f77272dc3c14c037f01fa4af08c5c5ff65d698f117d1b1a65a53911102a668523cca232cbacfde4e743d546e52f2fcfbc847bf01ba9000845fdb1a58a6742befe6022ccf691334843a91835eab18c193a17a02523d5b9679b2452e7c1989d45bd9ca8118e8a7ea10c05434367a619285ea198a7cc6df147541f1b4f7dd6c4cde00d16f46a494b18139422cbd1f9bb6464594938c945bf360df4d\"}\n",
        "\n",
        "Intercepted from Bob: {\"B\": \"0x8d79b69390f639501d81bdce911ec9defb0e93d421c02958c8c8dd4e245e61ae861ef9d32aa85dfec628d4046c403199297d6e17f0c9555137b5e8555eb941e8dcfd2fe5e68eecffeb66c6b0de91eb8cf2fd0c0f3f47e0c89779276fa7138e138793020c6b8f834be20a16237900c108f23f872a5f693ca3f93c3fd5a853dfd69518eb4bab9ac2a004d3a11fb21307149e8f2e1d8e1d7c85d604aa0bee335eade60f191f74ee165cd4baa067b96385aa89cbc7722e7426522381fc94ebfa8ef0\"}\n",
        "\n",
        "Intercepted from Alice: {\"iv\": \"e971b684dd482c56d6c661f7c6f79d88\", \"encrypted\": \"21a6b39b8bf09efd8957d5c7722759033f6afc21b30d907a8e6073906b8804e3\"}\n",
        "\n",
        "Bob connects to you, send him some parameters: {\"p\": \"0xffffffffffffffffc90fdaa22168c234c4c6628b80dc1cd129024e088a67cc74020bbea63b139b22514a08798e3404ddef9519b3cd3a431b302b0a6df25f14374fe1356d6d51c245e485b576625e7ec6f44c42e9a637ed6b0bff5cb6f406b7edee386bfb5a899fa5ae9f24117c4b1fe649286651ece45b3dc2007cb8a163bf0598da48361c55d39a69163fa8fd24cf5f83655d23dca3ad961c62f356208552bb9ed529077096966d670c354e4abc9804f1746c08ca237327ffffffffffffffff\", \"g\": \"0x14dd4766e622d2345b96774b97f668d253e38691e3ec7a45c54367709d869046d653ff980f72f77272dc3c14c037f01fa4af08c5c5ff65d698f117d1b1a65a53911102a668523cca232cbacfde4e743d546e52f2fcfbc847bf01ba9000845fdb1a58a6742befe6022ccf691334843a91835eab18c193a17a02523d5b9679b2452e7c1989d45bd9ca8118e8a7ea10c05434367a619285ea198a7cc6df147541f1b4f7dd6c4cde00d16f46a494b18139422cbd1f9bb6464594938c945bf360df4d\", \"A\": \"0xfffffffffff\"}\n",
        "\n",
        "Bob says to you: {\"B\": \"0x2218f3092ec488d4c26a16afb703d3a2f29b1cbd1374a5610ea0fdbb5963d370062b734b003bb8c1fd4271191ffb5445b3ad6a082584770078a8f8da84f55313668d228a0163ec3fa280255914e57ac30e2f1581e452a4885d619a07701f9a080f12966da9593fadd4cde381aacfef7124ab85a31ac6873eb6595e0579d7de8f0052de2dd3952e1bf4c7c92d285091a6fb16b4d58c69967299d7bc65a9344bf96eb30b48e476d66680e14ba59c88b3d8af9bf508c6c83af5c1226becddd8c32e\"}\n",
        "\n",
        "Bob says to you: {\"iv\": \"259bbab02c695222516e9e4ffa1fb004\", \"encrypted\": \"abe35c8df182ab09b781da839d51718b3dc6500ac1708898c32e59221be248f0c86038ee66d4a8bcc6a63f9588402d9740d9c3bc5d3d64038f4b34c28f908e09b96ed3780ca8d657f8f157191181ab1e\"}\n",
        "#crypto{n07_3ph3m3r4l_3n0u6h}"
      ],
      "metadata": {
        "id": "WD5znbQk4oen"
      },
      "execution_count": null,
      "outputs": []
    },
    {
      "cell_type": "markdown",
      "source": [
        "\n",
        "\n",
        "---\n",
        "\n"
      ],
      "metadata": {
        "id": "R5EKZfDx4oxN"
      }
    },
    {
      "cell_type": "markdown",
      "source": [
        "## Additive\n",
        "\n",
        "**-Solution:**\n",
        "\n",
        ". Let's review Diffie-Hellman in multiplicative group:\n",
        "- Alice and Bob publicly agree to use a modulus $p$ and base $g$ (which is a primitive root modulo $p$).\n",
        "-  Alice chooses a secret integer $a$, then sends Bob  $A = g^a (\\mod p)$\n",
        "-  Bob chooses a secret integer $b$, then sends Alice $B = g^b (\\mod p)$\n",
        "-  Alice computes $s = B^a (\\mod p)$\n",
        "-  Bob computes $s = A^b (\\mod p)$\n",
        "-  Alice and Bob now share the secret $s$.\n",
        "\n",
        "Diffie-Hellman in additive group is change all the exponent to multiply.\n",
        "\n",
        "**-Code**"
      ],
      "metadata": {
        "id": "ucUalIZuSKBu"
      }
    },
    {
      "cell_type": "code",
      "source": [
        "from Crypto.Cipher import AES\n",
        "from Crypto.Util.Padding import pad, unpad\n",
        "from Crypto.Util.number import inverse\n",
        "import hashlib\n",
        "from sympy.ntheory.residue_ntheory import discrete_log\n",
        "\n",
        "def is_pkcs7_padded(message):\n",
        "    padding = message[-message[-1]:]\n",
        "    return all(padding[i] == len(padding) for i in range(0, len(padding)))\n",
        "\n",
        "\n",
        "def decrypt_flag(shared_secret: int, iv: str, ciphertext: str):\n",
        "    # Derive AES key from shared secret\n",
        "    sha1 = hashlib.sha1()\n",
        "    sha1.update(str(shared_secret).encode('ascii'))\n",
        "    key = sha1.digest()[:16]\n",
        "    # Decrypt flag\n",
        "    ciphertext = bytes.fromhex(ciphertext)\n",
        "    iv = bytes.fromhex(iv)\n",
        "    cipher = AES.new(key, AES.MODE_CBC, iv)\n",
        "    plaintext = cipher.decrypt(ciphertext)\n",
        "\n",
        "    if is_pkcs7_padded(plaintext):\n",
        "        return unpad(plaintext, 16).decode('utf-8')\n",
        "    else:\n",
        "        return plaintext.decode('utf-8')\n",
        "p = 0xffffffffffffffffc90fdaa22168c234c4c6628b80dc1cd129024e088a67cc74020bbea63b139b22514a08798e3404ddef9519b3cd3a431b302b0a6df25f14374fe1356d6d51c245e485b576625e7ec6f44c42e9a637ed6b0bff5cb6f406b7edee386bfb5a899fa5ae9f24117c4b1fe649286651ece45b3dc2007cb8a163bf0598da48361c55d39a69163fa8fd24cf5f83655d23dca3ad961c62f356208552bb9ed529077096966d670c354e4abc9804f1746c08ca237327ffffffffffffffff\n",
        "A = 0x190766d4be1c2ec1c00f7838764a46288c28567d5e093e49ef71587272f80bed58f8c47c70a99f4b0eceab6d659ce8d2c8475b10f93fc5123017fb54a875a9b18191af5dac0d857c28953fba4d10b2a1dfcb83bbb0f29bfa10fdb15ce8af2b8d441a00b1cf0f2e0634bb0aa912a9a6107b205b225a52a6d822ad7c31c402ae93a6d2d77b5664cae2703433170fdf1703abf7f30f353752ad9cc98db09f6f1e891e20535081cfe86f5e1415d5f2aca3956f2eb6691901d3e55cfcbe3f2a3a550b\n",
        "g = 0x2\n",
        "a = A * inverse(g, p)\n",
        "B = 0x92092dfaafe2de9fa585c26f79aa763c1069cb6e37d0f68c655d89fc9e99f17703c9336558b8cd49bc72de084a2e7736644d7c79147ee4bd93c8bffe883a9442a2bbf269a07c9af81b56b5af1fe523d7201acd9636e52e3f0a07ae124e986d94560c044a9a62ae916ec89c4450c2a31a3b6c400d21b00bbb292611bf504d5a22282dc767dca91f0573da8fa35a8deaa1307bf272589af97052d6402b69c34313fa5d7a4c06d6cbca70b0e74979821cf09f5f581a2f3fb86c6f455863caa9f0b0\n",
        "\n",
        "shared_secret = (a * B) % p\n",
        "\n",
        "iv = \"317c46f08dd3bbe5138d8b53163402ea\"\n",
        "ciphertext = \"636a2cab48228912618557d1355cda5dc104839b1db454b5aa62c397c92dd876a56d13a3c291f4dfbfddfd37b837f5e0\"\n",
        "\n",
        "print(decrypt_flag(shared_secret, iv, ciphertext))\n",
        "#crypto{cycl1c_6r0up_und3r_4dd1710n?}"
      ],
      "metadata": {
        "id": "dveycx7jSKOW"
      },
      "execution_count": null,
      "outputs": []
    },
    {
      "cell_type": "markdown",
      "source": [
        "\n",
        "\n",
        "---\n",
        "\n"
      ],
      "metadata": {
        "id": "5joPYAIoSKZV"
      }
    },
    {
      "cell_type": "markdown",
      "source": [
        "## Static Client 2\n",
        "\n",
        "**-Solution:**\n",
        "\n",
        ". The server sends three pieces of data:\n",
        "\n",
        "- `A_data`: a JSON object containing the modulus p and the public value A raised to some secret exponent a modulo p.\n",
        "\n",
        "- `B_data`: a JSON object containing the public value B raised to some secret exponent b modulo p.\n",
        "\n",
        "- `cipher`: a JSON object containing the initialization vector (iv) and the \n",
        "encrypted message (encrypted) obtained by encrypting some plaintext with a symmetric encryption algorithm in CBC mode using a key derived from the shared secret obtained through the Diffie-Hellman key exchange.\n",
        "\n",
        ". The code then calculates a \"smooth\" modulus `smooth_p` such that `smooth_p` is the smallest power of 2 greater than `p` that is also prime, and performs the key exchange with this value of `smooth_p`.\n",
        "\n",
        ". The shared secret shared_secret is calculated as `A^b mod p`, where `A` and` p `are taken from `A_data`, and b is the discrete logarithm of B in base `smooth_p` (i.e., `B = smooth_p^b mod p`).\n",
        "\n",
        ". Finally, the code decrypts the message using the shared secret as the key for an AES-128-CBC encryption with padding. The key is derived from the shared secret by computing its SHA-1 hash truncated to 16 bytes, and the initialization vector and ciphertext are obtained from the cipher object.\n",
        "\n",
        ". The decrypt_flag function checks whether the decrypted plaintext is PKCS#7 padded, and if so, it removes the padding and returns the plaintext as a string. If not, it returns the plaintext as bytes.\n",
        "\n",
        "**-Code:**\n",
        "\n"
      ],
      "metadata": {
        "id": "Rj94lrGlEKfB"
      }
    },
    {
      "cell_type": "code",
      "source": [
        "from Crypto.Util.number import isPrime, long_to_bytes, getPrime\n",
        "from pwn import remote\n",
        "from sympy.ntheory.residue_ntheory import discrete_log\n",
        "from json import loads, dumps\n",
        "r = remote(\"socket.cryptohack.org\", 13378)\n",
        "\n",
        "A_data = loads(r.recvline().split(b\":\", 1)[1])\n",
        "B_data = loads(r.recvline().split(b\":\", 1)[1])\n",
        "cipher = loads(r.recvline().split(b\":\", 1)[1])\n",
        "p = int(A_data[\"p\"], 16)\n",
        "A = int(A_data[\"A\"],16)\n",
        "\n",
        "i = 2\n",
        "smooth_p = 1\n",
        "while smooth_p < p or not isPrime(smooth_p + 1):\n",
        "    smooth_p *= i\n",
        "    i += 1\n",
        "smooth_p += 1\n",
        "\n",
        "r.sendline(dumps({\n",
        "    \"g\":\"0x02\",\n",
        "    \"A\": hex(A),\n",
        "    \"p\": hex(smooth_p)\n",
        "}).encode())\n",
        "B = int(r.recvline().decode().split()[13][1:-2],16)\n",
        "\n",
        "b = discrete_log(smooth_p, B, 2)\n",
        "shared_secret = pow(A, b, p)\n",
        "\n",
        "from Crypto.Cipher import AES\n",
        "from Crypto.Util.Padding import pad, unpad\n",
        "import hashlib\n",
        "\n",
        "def is_pkcs7_padded(message):\n",
        "    padding = message[-message[-1]:]\n",
        "    return all(padding[i] == len(padding) for i in range(0, len(padding)))\n",
        "\n",
        "def decrypt_flag(shared_secret: int, iv: str, ciphertext: str):\n",
        "    sha1 = hashlib.sha1()\n",
        "    sha1.update(str(shared_secret).encode('ascii'))\n",
        "    key = sha1.digest()[:16]\n",
        "    ciphertext = bytes.fromhex(ciphertext)\n",
        "    iv = bytes.fromhex(iv)\n",
        "    cipher = AES.new(key, AES.MODE_CBC, iv)\n",
        "    plaintext = cipher.decrypt(ciphertext)\n",
        "    if is_pkcs7_padded(plaintext):\n",
        "        return unpad(plaintext, 16).decode()\n",
        "    else:\n",
        "        return plaintext \n",
        "\n",
        "print(decrypt_flag(shared_secret, cipher[\"iv\"], cipher[\"encrypted\"]))\n",
        "#crypto{uns4f3_pr1m3_sm4ll_oRd3r}"
      ],
      "metadata": {
        "id": "XY_PXedUEKxS"
      },
      "execution_count": null,
      "outputs": []
    },
    {
      "cell_type": "markdown",
      "source": [
        "\n",
        "\n",
        "---\n",
        "\n"
      ],
      "metadata": {
        "id": "6QpmWBUTELDi"
      }
    },
    {
      "cell_type": "markdown",
      "source": [
        "## Script Kindle\n",
        "\n",
        "**- Solution:**\n",
        "\n",
        ". Notice in the `generate_public_int` and `generate_shared_secret` function, `^` symbol is $XOR$ not exponent in Python. So we can take $a = g \\oplus A$ and $s = a \\oplus B$ and get shared secret.\n",
        "\n",
        "**-Code:**"
      ],
      "metadata": {
        "id": "dFjyV89BELrJ"
      }
    },
    {
      "cell_type": "code",
      "source": [
        "from Crypto.Util.Padding import pad, unpad\n",
        "from Crypto.Util.number import inverse\n",
        "from Crypto.Cipher import AES\n",
        "import hashlib\n",
        "def is_pkcs7_padded(message):\n",
        "    padding = message[-message[-1]:]\n",
        "    return all(padding[i] == len(padding) for i in range(0, len(padding)))\n",
        "def decrypt_flag(shared_secret: int, iv: str, ciphertext: str):\n",
        "    # Derive AES key from shared secret\n",
        "    sha1 = hashlib.sha1()\n",
        "    sha1.update(str(shared_secret).encode('ascii'))\n",
        "    key = sha1.digest()[:16]\n",
        "    # Decrypt flag\n",
        "    ciphertext = bytes.fromhex(ciphertext)\n",
        "    iv = bytes.fromhex(iv)\n",
        "    cipher = AES.new(key, AES.MODE_CBC, iv)\n",
        "    plaintext = cipher.decrypt(ciphertext)\n",
        "\n",
        "    if is_pkcs7_padded(plaintext):\n",
        "        return unpad(plaintext, 16).decode('utf-8')\n",
        "    else:\n",
        "        return plaintext.decode('utf-8')\n",
        "p = 2410312426921032588552076022197566074856950548502459942654116941958108831682612228890093858261341614673227141477904012196503648957050582631942730706805009223062734745341073406696246014589361659774041027169249453200378729434170325843778659198143763193776859869524088940195577346119843545301547043747207749969763750084308926339295559968882457872412993810129130294592999947926365264059284647209730384947211681434464714438488520940127459844288859336526896320919633919\n",
        "g = 2\n",
        "A = 539556019868756019035615487062583764545019803793635712947528463889304486869497162061335997527971977050049337464152478479265992127749780103259420400564906895897077512359628760656227084039215210033374611483959802841868892445902197049235745933150328311259162433075155095844532813412268773066318780724878693701177217733659861396010057464019948199892231790191103752209797118863201066964703008895947360077614198735382678809731252084194135812256359294228383696551949882\n",
        "B = 652888676809466256406904653886313023288609075262748718135045355786028783611182379919130347165201199876762400523413029908630805888567578414109983228590188758171259420566830374793540891937904402387134765200478072915215871011267065310188328883039327167068295517693269989835771255162641401501080811953709743259493453369152994501213224841052509818015422338794357540968552645357127943400146625902468838113443484208599332251406190345653880206706388377388164982846343351\n",
        "iv = 'c044059ae57b61821a9090fbdefc63c5'\n",
        "encrypted_flag = 'f60522a95bde87a9ff00dc2c3d99177019f625f3364188c1058183004506bf96541cf241dad1c0e92535564e537322d7'\n",
        "b = g ^ B\n",
        "shared_secret = A ^ b\n",
        "print(decrypt_flag(shared_secret, iv, encrypted_flag))\n",
        "#crypto{b3_c4r3ful_w1th_y0ur_n0tati0n}"
      ],
      "metadata": {
        "id": "H8NR2A2qEL8L"
      },
      "execution_count": null,
      "outputs": []
    },
    {
      "cell_type": "markdown",
      "source": [
        "\n",
        "\n",
        "---\n",
        "\n"
      ],
      "metadata": {
        "id": "nKsPj-IwEMJh"
      }
    },
    {
      "cell_type": "markdown",
      "source": [
        "## The matrix\n",
        "\n",
        "**-Solution:**\n",
        "\n",
        ". The goal is to recover a flag that has been encrypted using a matrix transformation with an unknown key. The key is somehow related to the values of P, N, and E.\n",
        "\n",
        "The code defines three variables:\n",
        "\n",
        "P is an integer equal to 2.\n",
        "\n",
        "N is an integer equal to 50.\n",
        "\n",
        "E is an integer equal to 31337.\n",
        "\n",
        ". The `binary2bytes` function takes a binary string s, converts it to an integer, and returns the corresponding bytes object. The number of bits in s is rounded up to the nearest multiple of 8 to ensure that the resulting bytes object has a whole number of bytes.\n",
        "\n",
        ". The `read_matrix` function takes a matrix m and converts it to a binary string by concatenating the binary representation of each element in column-major order. The resulting string is truncated to a length of 2480 bits (i.e., 50 columns times 49 rows times 2 bits per element). The truncated string is then converted to bytes using the `binary2bytes` function.\n",
        "\n",
        ". The `load_matrix` function reads a matrix from a file named fname. The file should contain a sequence of N rows, each consisting of N binary digits (i.e., 0 or 1), separated by spaces. The rows should be separated by newline characters. The function returns a matrix object from the SageMath library, which represents a matrix over the finite field of order P (i.e., the field with two elements).\n",
        "\n",
        ". The code loads the encrypted flag from a file named flag.enc using the `load_matrix` function. It then raises the matrix to the power of the modular inverse of E modulo the multiplicative order of the matrix. This operation effectively undoes the encryption transformation, assuming that the matrix exponentiation was performed using modular multiplication and that the matrix has a multiplicative inverse. The resulting matrix should contain the original plaintext in binary form.\n",
        "\n",
        ". The plaintext is then extracted from the matrix using the read_matrix function and printed to the console. This plaintext is expected to be the flag.\n",
        "\n",
        "\n",
        "**-Code**"
      ],
      "metadata": {
        "id": "Z1hkZRtAEwMi"
      }
    },
    {
      "cell_type": "code",
      "source": [
        "P = 2\n",
        "N = 50\n",
        "E = 31337\n",
        "\n",
        "def binary2bytes(s):\n",
        "    return int(s, 2).to_bytes((len(s) + 7) // 8, byteorder='big')\n",
        "\n",
        "def read_matrix(m):\n",
        "    l = []\n",
        "    for y in range(50):\n",
        "        for x in m:\n",
        "            l.append(str(x[y]))\n",
        "    plaintext = (\"\".join(l))\n",
        "    return binary2bytes(plaintext[:2480])\n",
        "\n",
        "def load_matrix(fname):\n",
        "    data = open(fname, 'r').read().strip()\n",
        "    rows = [list(map(int, row)) for row in data.splitlines()]\n",
        "    return Matrix(GF(P), rows)\n",
        "\n",
        "c = load_matrix(\"flag.enc\")\n",
        "c = c ** pow(E, -1, c.multiplicative_order())\n",
        "print(read_matrix(c))\n",
        "#crypto{there_is_no_spoon_66eff188}"
      ],
      "metadata": {
        "id": "9Ka9n-GaE4zZ"
      },
      "execution_count": null,
      "outputs": []
    },
    {
      "cell_type": "markdown",
      "source": [
        "\n",
        "\n",
        "---\n",
        "\n"
      ],
      "metadata": {
        "id": "7_xr_Sx9E5FY"
      }
    },
    {
      "cell_type": "markdown",
      "source": [
        "## The matrix reloaded\n",
        "\n",
        "**-Solution:**\n",
        "\n",
        ". The attack is based on the leakage of some information from the encryption process, namely the intermediate values of the encryption and decryption processes, which are transformed into matrices and analyzed using linear algebra techniques.\n",
        "\n",
        "The main steps of the script are:\n",
        "\n",
        "1. Load the generator matrix G and the output matrices v and w from files.\n",
        "\n",
        "2. Compute the Jordan normal form J and the transformation matrix P of G.\n",
        "\n",
        "3. Transform the output matrices v and w into the new basis given by P.\n",
        "\n",
        "4. Select the two blocks of J corresponding to the last two Jordan blocks and extract their size n and the elements of v and w corresponding to them.\n",
        "\n",
        "5. Compute the secret value SECRET from the extracted values.\n",
        "\n",
        "6. Derive the secret key KEY from SECRET using a hash function.\n",
        "\n",
        "7. Load the ciphertext from file and decrypt it using AES in CBC mode with KEY.\n",
        "\n",
        "8. Print the decrypted flag.\n",
        "\n",
        ". Note that the value of n is used to compute the secret value SECRET, which is derived from the ratio of two values in the matrices w and v. This ratio is multiplied by n to obtain the secret value. The secret value is then used to derive the secret key KEY, which is used to decrypt the ciphertext.\n",
        "\n",
        ". The attack works by exploiting the fact that the AES encryption and decryption processes leak some information about the secret key, which can be used to recover it using side-channel analysis techniques. In this case, the information is represented by the intermediate matrices generated during the encryption and decryption processes, which are transformed into a canonical form using the Jordan normal form and analyzed using linear algebra techniques.\n",
        "\n",
        "\n",
        "**-Code:**"
      ],
      "metadata": {
        "id": "O--JEJYnE53i"
      }
    },
    {
      "cell_type": "code",
      "source": [
        "from Crypto.Cipher import AES\n",
        "from Crypto.Hash import SHA256\n",
        "from Crypto.Util.number import *\n",
        "from Crypto.Util.Padding import pad, unpad\n",
        "\n",
        "import json\n",
        "\n",
        "p = 13322168333598193507807385110954579994440518298037390249219367653433362879385570348589112466639563190026187881314341273227495066439490025867330585397455471\n",
        "N = 30\n",
        "\n",
        "def load_matrix(fname):\n",
        "    data = open(fname, 'r').read().strip()\n",
        "    rows = [list(map(int, row.split(' '))) for row in data.splitlines()]\n",
        "    return Matrix(GF(p), rows)\n",
        "\n",
        "G = load_matrix(\"generator.txt\")\n",
        "output = json.loads(open(\"output.txt\").read())\n",
        "\n",
        "v = Matrix(GF(p), output['v'])\n",
        "w = Matrix(GF(p), output['w'])\n",
        "\n",
        "J, P = G.jordan_form(transformation=True) \n",
        "\n",
        "w_ = (P^(-1)) * (w.T)\n",
        "v_ = (P^(-1)) * (v.T)\n",
        "\n",
        "M = J[-2:,-2:]\n",
        "n = M[0,0]\n",
        "v1, v2 = list(v_.T)[0][-2:]\n",
        "w1, w2 = list(w_.T)[0][-2:]\n",
        "\n",
        "SECRET = int(n/w2 * (w1 - w2*v1/v2))\n",
        "\n",
        "KEY_LENGTH = 128\n",
        "KEY = SHA256.new(data=str(SECRET).encode()).digest()[:KEY_LENGTH]\n",
        "\n",
        "flag_enc = json.loads(open(\"flag.enc\", \"r\").read())\n",
        "cipher = AES.new(KEY, AES.MODE_CBC, iv=bytes.fromhex(flag_enc[\"iv\"]))\n",
        "\n",
        "print(cipher.decrypt(bytes.fromhex(flag_enc[\"ciphertext\"])))\n",
        "#crypto{the_oracle_told_me_about_you_91e019ff}"
      ],
      "metadata": {
        "id": "H2wf8nRhE70K"
      },
      "execution_count": null,
      "outputs": []
    },
    {
      "cell_type": "markdown",
      "source": [
        "\n",
        "\n",
        "---\n",
        "\n"
      ],
      "metadata": {
        "id": "r6xITI6QE8ID"
      }
    },
    {
      "cell_type": "markdown",
      "source": [
        "## The matrix revolutions\n",
        "\n",
        "**-Solution:**\n",
        "\n",
        ". The overall protocol aims to derive a shared secret key between two parties, and then use that key to decrypt an encrypted flag.\n",
        "\n",
        "Here's a step-by-step description of what the code does:\n",
        "\n",
        "1. In the first code block, the function binary2bytes converts a binary string into a bytes object, and read_matrix and load_matrix functions are defined to read and load matrices from files respectively.\n",
        "\n",
        "2. In the second code block, a prime number p and a constant N are defined, and load_matrix function is modified to load a matrix over a finite field of characteristic p.\n",
        "\n",
        "3. G, A, and B matrices are loaded from files generator.txt, alice.pub, and bob.pub, respectively.\n",
        "\n",
        "4. The function ff_discrete_log is defined to compute the discrete logarithm of two polynomials over a finite field of characteristic 2. This function is later used to compute the discrete logarithm of matrices G and A over fields of characteristic 61 and 89, respectively.\n",
        "\n",
        "5. The function get_alice_priv is defined to derive Alice's private key from G, A, and B matrices. It first factorizes the characteristic polynomials of G and A over fields of characteristic 61 and 89, respectively. Then, it computes the discrete logarithm of G with respect to a base g over fields of characteristic 61 and 89, and uses these logarithms to derive possible values of Alice's private key. Finally, it checks each possible value to see if it is a valid private key that can derive A from G.\n",
        "\n",
        "6. Alice's private key is derived by calling the get_alice_priv function.\n",
        "\n",
        "7. The shared secret key is computed as B raised to Alice's private key.\n",
        "\n",
        "8. The function derive_aes_key is defined to derive an AES key from a matrix by cat its elements and hashing the resulting string with SHA-256.\n",
        "\n",
        "9. The AES key is derived by calling the derive_aes_key function with the shared secret matrix as input.\n",
        "\n",
        "10. The encrypted flag is loaded from file flag.enc, and the cipher object is initialized with the AES key and the initialization vector from the flag data.\n",
        "\n",
        "11. The flag is decrypted by calling decrypt method of the cipher object.\n",
        "\n",
        "12. The decrypted flag is printed to the console.\n",
        "\n",
        ". Overall, the code performs a secure communication between two parties (Alice and Bob) using public-key cryptography and symmetric-key cryptography. The protocol ensures that only the intended receiver (Alice) can derive the shared secret key and decrypt the encrypted message\n",
        "\n",
        "\n",
        "**-Code:**"
      ],
      "metadata": {
        "id": "CLgheqEQE85Y"
      }
    },
    {
      "cell_type": "code",
      "source": [
        "from Crypto.Cipher import AES\n",
        "from Crypto.Hash import SHA256\n",
        "\n",
        "import json\n",
        "\n",
        "P = 2\n",
        "N = 150\n",
        "\n",
        "def load_matrix(fname):\n",
        "    data = open(fname, 'r').read().strip()\n",
        "    rows = [list(map(int, row)) for row in data.splitlines()]\n",
        "    return Matrix(GF(P), rows)\n",
        "\n",
        "def ff_discrete_log(poly1, poly2, d):\n",
        "    K = GF(2^d)\n",
        "    R.<xd> = PolynomialRing(K)\n",
        "\n",
        "    poly1 = poly1(xd)\n",
        "    root1 = poly1.roots()[0][0]\n",
        "\n",
        "    poly2 = poly2(xd)\n",
        "    root2 = poly2.roots()[0][0]\n",
        "\n",
        "    pari_g = pari(root1)\n",
        "    pari_a = pari(root2)\n",
        "    ans = int(pari_a.fflog(pari_g))\n",
        "    \n",
        "    assert root1^ans == root2\n",
        "    return ans\n",
        "\n",
        "G = load_matrix('generator.txt')\n",
        "A = load_matrix('alice.pub')\n",
        "B = load_matrix('bob.pub')\n",
        "\n",
        "def get_alice_priv():\n",
        "    g61, g89 = factor(G.charpoly())\n",
        "    a61, a89 = factor(A.charpoly())\n",
        "\n",
        "    P61 = 2^61 - 1\n",
        "    P89 = 2^89 - 1\n",
        "\n",
        "    log61 = int(ff_discrete_log(g61[0], a61[0], 61))\n",
        "    log89 = int(ff_discrete_log(g89[0], a89[0], 89))\n",
        "\n",
        "    poss61 = [int(log61 * pow(2, i, P61)) for i in range(61)]\n",
        "    poss89 = [int(log89 * pow(2, i, P89)) for i in range(89)]\n",
        "\n",
        "    for p61 in poss61:\n",
        "        for p89 in poss89:\n",
        "            poss_alice = crt([p61, p89], [P61, P89])\n",
        "            if is_prime(poss_alice) and G^poss_alice == A:\n",
        "                print(\"Found:\", poss_alice)\n",
        "                return poss_alice\n",
        "\n",
        "A_priv = get_alice_priv()\n",
        "shared_secret = B^A_priv\n",
        "\n",
        "KEY_LENGTH = 128\n",
        "def derive_aes_key(M):\n",
        "    mat_str = ''.join(str(x) for row in M for x in row)\n",
        "    return SHA256.new(data=mat_str.encode()).digest()[:KEY_LENGTH]\n",
        "\n",
        "key = derive_aes_key(shared_secret)\n",
        "flag_data = json.load(open('flag.enc', 'r'))\n",
        "\n",
        "cipher = AES.new(key, AES.MODE_CBC, bytes.fromhex(flag_data['iv']))\n",
        "plaintext = cipher.decrypt(bytes.fromhex(flag_data['ciphertext']))\n",
        "print(plaintext)\n",
        "#crypto{we_are_looking_for_the_keymaker_478415c4}"
      ],
      "metadata": {
        "id": "2gSxEa1XFAo5"
      },
      "execution_count": null,
      "outputs": []
    }
  ]
}