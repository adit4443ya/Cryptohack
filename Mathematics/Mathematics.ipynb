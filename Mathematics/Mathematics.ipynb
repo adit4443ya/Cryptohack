{
  "cells": [
    {
      "cell_type": "markdown",
      "metadata": {
        "id": "IActieoiIih-"
      },
      "source": [
        "## Quadratic Residues\n",
        "\n",
        "**-Solution:**\n",
        "\n",
        ". Brute force forever\n",
        "\n",
        "**-Code:**"
      ]
    },
    {
      "cell_type": "code",
      "execution_count": null,
      "metadata": {
        "id": "jRELDiLsIC3j"
      },
      "outputs": [],
      "source": [
        "p = 29\n",
        "ints = [14, 6, 11]\n",
        "\n",
        "ans = [x for x in range(p) if(pow(x, 2, p) in ints)]\n",
        "print(min(ans))\n",
        "#8"
      ]
    },
    {
      "cell_type": "markdown",
      "metadata": {
        "id": "etnNebNxI5bh"
      },
      "source": [
        "\n",
        "\n",
        "---\n",
        "\n"
      ]
    },
    {
      "cell_type": "markdown",
      "metadata": {
        "id": "gqfPXP8lI6Eg"
      },
      "source": [
        "## Legendre symbol\n",
        "\n",
        "**-Solution:**\n",
        "\n",
        ".First, we have to find the quadratic residue\n",
        "`(a/p) = a^((p + 1)/2) mod p`.\n",
        "If `(a/p) = 1` then `a` is quadratic residue.\n",
        "Because `p = 3 mod 4`  so to calculate square root of `a`, we can use [Tonelli–Shanks_algorithm](https://en.wikipedia.org/wiki/Tonelli%E2%80%93Shanks_algorithm)\n",
        "`a = x^((p + 1) / 4) mod p`\n"
      ]
    },
    {
      "cell_type": "code",
      "execution_count": null,
      "metadata": {
        "id": "-MzZfDHUI60Y"
      },
      "outputs": [],
      "source": [
        "p = 101524035174539890485408575671085261788758965189060164484385690801466167356667036677932998889725476582421738788500738738503134356158197247473850273565349249573867251280253564698939768700489401960767007716413932851838937641880157263936985954881657889497583485535527613578457628399173971810541670838543309159139\n",
        "\n",
        "\n",
        "ints = 25081841204695904475894082974192007718642931811040324543182130088804239047149283334700530600468528298920930150221871666297194395061462592781551275161695411167049544771049769000895119729307495913024360169904315078028798025169985966732789207320203861858234048872508633514498384390497048416012928086480326832803, 45471765180330439060504647480621449634904192839383897212809808339619841633826534856109999027962620381874878086991125854247108359699799913776917227058286090426484548349388138935504299609200377899052716663351188664096302672712078508601311725863678223874157861163196340391008634419348573975841578359355931590555, 17364140182001694956465593533200623738590196990236340894554145562517924989208719245429557645254953527658049246737589538280332010533027062477684237933221198639948938784244510469138826808187365678322547992099715229218615475923754896960363138890331502811292427146595752813297603265829581292183917027983351121325, 14388109104985808487337749876058284426747816961971581447380608277949200244660381570568531129775053684256071819837294436069133592772543582735985855506250660938574234958754211349215293281645205354069970790155237033436065434572020652955666855773232074749487007626050323967496732359278657193580493324467258802863, 4379499308310772821004090447650785095356643590411706358119239166662089428685562719233435615196994728767593223519226235062647670077854687031681041462632566890129595506430188602238753450337691441293042716909901692570971955078924699306873191983953501093343423248482960643055943413031768521782634679536276233318, 85256449776780591202928235662805033201684571648990042997557084658000067050672130152734911919581661523957075992761662315262685030115255938352540032297113615687815976039390537716707854569980516690246592112936796917504034711418465442893323439490171095447109457355598873230115172636184525449905022174536414781771, 50576597458517451578431293746926099486388286246142012476814190030935689430726042810458344828563913001012415702876199708216875020997112089693759638454900092580746638631062117961876611545851157613835724635005253792316142379239047654392970415343694657580353333217547079551304961116837545648785312490665576832987, 96868738830341112368094632337476840272563704408573054404213766500407517251810212494515862176356916912627172280446141202661640191237336568731069327906100896178776245311689857997012187599140875912026589672629935267844696976980890380730867520071059572350667913710344648377601017758188404474812654737363275994871, 4881261656846638800623549662943393234361061827128610120046315649707078244180313661063004390750821317096754282796876479695558644108492317407662131441224257537276274962372021273583478509416358764706098471849536036184924640593888902859441388472856822541452041181244337124767666161645827145408781917658423571721, 18237936726367556664171427575475596460727369368246286138804284742124256700367133250078608537129877968287885457417957868580553371999414227484737603688992620953200143688061024092623556471053006464123205133894607923801371986027458274343737860395496260538663183193877539815179246700525865152165600985105257601565\n",
        "\n",
        "quad = [x for x in ints if(pow(x, (p - 1)//2, p) == 1)]\n",
        "# there is one quadratic residue\n",
        "res = quad[0]\n",
        "print(pow(res, (p + 1)//4, p))\n",
        "#93291799125366706806545638475797430512104976066103610269938025709952247020061090804870186195285998727680200979853848718589126765742550855954805290253592144209552123062161458584575060939481368210688629862036958857604707468372384278049741369153506182660264876115428251983455344219194133033177700490981696141526"
      ]
    },
    {
      "cell_type": "markdown",
      "metadata": {
        "id": "3SyZJ2C6I7Kq"
      },
      "source": [
        "\n",
        "\n",
        "---\n",
        "\n"
      ]
    },
    {
      "cell_type": "markdown",
      "metadata": {
        "id": "-Ags0D54I8fx"
      },
      "source": [
        "## Modular Square Root\n",
        "\n",
        ". Use the above [Tonelli–Shanks_algorithm](https://en.wikipedia.org/wiki/Tonelli%E2%80%93Shanks_algorithm) to solve"
      ]
    },
    {
      "cell_type": "code",
      "execution_count": null,
      "metadata": {
        "id": "vfrMKwADI82p"
      },
      "outputs": [],
      "source": [
        "def legendre(a, p):\n",
        "    return pow(a, (p - 1) // 2, p)\n",
        "\n",
        "def tonelli(n, p):\n",
        "    assert legendre(n, p) == 1, \"not a square (mod p)\"\n",
        "    q = p - 1\n",
        "    s = 0\n",
        "    while q % 2 == 0:\n",
        "        q //= 2\n",
        "        s += 1\n",
        "    if s == 1:\n",
        "        return pow(n, (p + 1) // 4, p)\n",
        "    for z in range(2, p):\n",
        "        if p - 1 == legendre(z, p):\n",
        "            break\n",
        "    c = pow(z, q, p)\n",
        "    r = pow(n, (q + 1) // 2, p)\n",
        "    t = pow(n, q, p)\n",
        "    m = s\n",
        "    t2 = 0\n",
        "    while (t - 1) % p != 0:\n",
        "        t2 = (t * t) % p\n",
        "        for i in range(1, m):\n",
        "            if (t2 - 1) % p == 0:\n",
        "                break\n",
        "            t2 = (t2 * t2) % p\n",
        "        b = pow(c, 1 << (m - i - 1), p)\n",
        "        r = (r * b) % p\n",
        "        c = (b * b) % p\n",
        "        t = (t * c) % p\n",
        "        m = i\n",
        "    return r\n",
        "\n",
        "a = 8479994658316772151941616510097127087554541274812435112009425778595495359700244470400642403747058566807127814165396640215844192327900454116257979487432016769329970767046735091249898678088061634796559556704959846424131820416048436501387617211770124292793308079214153179977624440438616958575058361193975686620046439877308339989295604537867493683872778843921771307305602776398786978353866231661453376056771972069776398999013769588936194859344941268223184197231368887060609212875507518936172060702209557124430477137421847130682601666968691651447236917018634902407704797328509461854842432015009878011354022108661461024768\n",
        "p = 30531851861994333252675935111487950694414332763909083514133769861350960895076504687261369815735742549428789138300843082086550059082835141454526618160634109969195486322015775943030060449557090064811940139431735209185996454739163555910726493597222646855506445602953689527405362207926990442391705014604777038685880527537489845359101552442292804398472642356609304810680731556542002301547846635101455995732584071355903010856718680732337369128498655255277003643669031694516851390505923416710601212618443109844041514942401969629158975457079026906304328749039997262960301209158175920051890620947063936347307238412281568760161\n",
        "\n",
        "root = tonelli(a, p)\n",
        "print(min(root, p - root))\n",
        "#2362339307683048638327773298580489298932137505520500388338271052053734747862351779647314176817953359071871560041125289919247146074907151612762640868199621186559522068338032600991311882224016021222672243139362180461232646732465848840425458257930887856583379600967761738596782877851318489355679822813155123045705285112099448146426755110160002515592418850432103641815811071548456284263507805589445073657565381850521367969675699760755310784623577076440037747681760302434924932113640061738777601194622244192758024180853916244427254065441962557282572849162772740798989647948645207349737457445440405057156897508368531939120"
      ]
    },
    {
      "cell_type": "markdown",
      "metadata": {
        "id": "tbqJdAIBI9Iw"
      },
      "source": [
        "\n",
        "\n",
        "---\n",
        "\n"
      ]
    },
    {
      "cell_type": "markdown",
      "metadata": {
        "id": "A8V3qBffKKuQ"
      },
      "source": [
        "## Chinese Remainder Theorem\n",
        "\n",
        "**-Solution:**\n",
        "\n",
        ". The problem's title is also a kind of thing. So by using and reading this, we will be able to clear the task.\n",
        "\n",
        "**-Code:**"
      ]
    },
    {
      "cell_type": "code",
      "execution_count": null,
      "metadata": {
        "id": "L9dKmwz3KLGT"
      },
      "outputs": [],
      "source": [
        "from Crypto.Util.number import inverse\n",
        "\n",
        "def crt(a, m):\n",
        "    Mul = 1\n",
        "    for i in m:\n",
        "        Mul *= i\n",
        "    M = [Mul // x for x in m]\n",
        "    y = [inverse(M[i], m[i]) for i in range(len(m))]\n",
        "    ans = 0\n",
        "    for i in range(len(m)):\n",
        "        ans += a[i] * M[i] * y[i]\n",
        "    return ans % Mul\n",
        "\n",
        "a = [2, 3, 5]\n",
        "m = [5, 11, 17]\n",
        "print(crt(a, m))\n",
        "#872"
      ]
    },
    {
      "cell_type": "markdown",
      "metadata": {
        "id": "_HOUDJLQKLYB"
      },
      "source": [
        "\n",
        "\n",
        "---\n",
        "\n"
      ]
    },
    {
      "cell_type": "markdown",
      "metadata": {
        "id": "oJEKVU2OKMCS"
      },
      "source": [
        "## Vectors\n",
        "\n",
        "**-Solution:**\n",
        "\n",
        "\n",
        ". `numpy.array()` can solve this.\n",
        "\n",
        "**-Code:**"
      ]
    },
    {
      "cell_type": "code",
      "execution_count": null,
      "metadata": {
        "colab": {
          "base_uri": "https://localhost:8080/"
        },
        "id": "Q_JHLHqubO_U",
        "outputId": "20ee0732-ba89-40d3-f1ff-d35447abeec5"
      },
      "outputs": [
        {
          "name": "stdout",
          "output_type": "stream",
          "text": [
            "Looking in indexes: https://pypi.org/simple, https://us-python.pkg.dev/colab-wheels/public/simple/\n",
            "Requirement already satisfied: numpy in /usr/local/lib/python3.9/dist-packages (1.22.4)\n"
          ]
        }
      ],
      "source": [
        "!pip install numpy\n"
      ]
    },
    {
      "cell_type": "code",
      "execution_count": null,
      "metadata": {
        "colab": {
          "base_uri": "https://localhost:8080/"
        },
        "id": "qdJXxhuoLcTw",
        "outputId": "2a79494b-7af0-4bbc-f44b-52143d82373f"
      },
      "outputs": [
        {
          "name": "stdout",
          "output_type": "stream",
          "text": [
            "702\n"
          ]
        }
      ],
      "source": [
        "import numpy as np\n",
        "v = np.array([2, 6, 3])\n",
        "w = np.array([1, 0, 0])\n",
        "u = np.array([7, 7, 2])\n",
        "\n",
        "x = 3*(2*v - w)\n",
        "y = 2*u\n",
        "\n",
        "print(x.dot(y))\n",
        "#702"
      ]
    },
    {
      "cell_type": "markdown",
      "metadata": {
        "id": "jtnLbEXeLco1"
      },
      "source": [
        "\n",
        "\n",
        "---\n",
        "\n"
      ]
    },
    {
      "cell_type": "markdown",
      "metadata": {
        "id": "tw1T3JW0Lc79"
      },
      "source": [
        "## Size and Basis\n",
        "**-Solution:**\n",
        "\n",
        ". `numpy.array()` to calculate the size of vectors\n",
        "\n",
        "**-Code:**"
      ]
    },
    {
      "cell_type": "code",
      "execution_count": null,
      "metadata": {
        "id": "NxwDQkPWLdN3"
      },
      "outputs": [],
      "source": [
        "import numpy as np\n",
        "v = np.array([4, 6, 2, 5])\n",
        "\n",
        "print(pow(v.dot(v), 0.5))\n",
        "#9.0"
      ]
    },
    {
      "cell_type": "markdown",
      "metadata": {
        "id": "CDkvlS54LdpG"
      },
      "source": [
        "\n",
        "\n",
        "---\n",
        "\n"
      ]
    },
    {
      "cell_type": "markdown",
      "metadata": {
        "id": "adjrbTu3Ld9I"
      },
      "source": [
        "## Gram Schmidt\n",
        "\n",
        "**-Solution:**\n",
        "\n",
        ".  Take a paper and a pencil, then calculate what we are told to. This has been taught in Linear Algebra\n",
        "\n",
        "**-Code:**"
      ]
    },
    {
      "cell_type": "code",
      "execution_count": null,
      "metadata": {
        "id": "NQnEPoFbLenl"
      },
      "outputs": [],
      "source": [
        "# [         4          1          3         -1]\n",
        "# [     70/27      31/27      -23/9     104/27]\n",
        "# [  -287/397   -405/397    799/397    844/397]\n",
        "# [-1456/4023    273/298  1729/8046   455/4023],\n",
        "\n",
        "# [       1        0        0        0]\n",
        "# [   -4/27        1        0        0]\n",
        "# [    -1/3  468/397        1        0]\n",
        "# [   58/27 -659/794 439/4023        1]\n",
        "#0.91611"
      ]
    },
    {
      "cell_type": "markdown",
      "metadata": {
        "id": "iBRXK_p_daLV"
      },
      "source": [
        "\n",
        "\n",
        "---\n",
        "\n"
      ]
    },
    {
      "cell_type": "markdown",
      "metadata": {
        "id": "6UTFO3_CdcDX"
      },
      "source": [
        "## What's a Lattice?\n",
        "\n",
        "**-Solution:**\n",
        "\n",
        ". `numpy.linalg.det()` may help"
      ]
    },
    {
      "cell_type": "code",
      "execution_count": null,
      "metadata": {
        "id": "Dpr0Dnkkdgh6"
      },
      "outputs": [],
      "source": [
        "import numpy as np\n",
        "v = np.array([[6, 2, -3], [5, 1, 4], [2, 7, 1]])\n",
        "\n",
        "print(round(abs(np.linalg.det(v))))\n",
        "# 255"
      ]
    },
    {
      "cell_type": "markdown",
      "metadata": {
        "id": "28ydwfO0dgw4"
      },
      "source": [
        "\n",
        "\n",
        "---\n",
        "\n"
      ]
    },
    {
      "cell_type": "markdown",
      "metadata": {
        "id": "-vg-0zUIdhGo"
      },
      "source": [
        "## Gaussian Reduction\n",
        "\n",
        "**-Solution:**\n",
        "\n",
        ". Read the algorithm and try to implement that, because i have studied this in Linear Algebra, therefore i can solve the problem with just a paper and a pencil. However, because of studying in an IT school, I deploy a code implementation for it.\n",
        "\n",
        "**-Code:**"
      ]
    },
    {
      "cell_type": "code",
      "execution_count": null,
      "metadata": {
        "id": "wjDMwUIKdmGw"
      },
      "outputs": [],
      "source": [
        "import numpy as np\n",
        "v1 = np.array([846835985, 9834798552])\n",
        "v2 = np.array([87502093, 123094980])\n",
        "m = -1\n",
        "while(m != 0):\n",
        "    if (np.dot(v2, v2) < np.dot(v1, v1)):\n",
        "        t = v1\n",
        "        v1 = v2\n",
        "        v2 = t\n",
        "    m = int((v1.dot(v2)) / (v1.dot(v1)))\n",
        "    if(m == 0):\n",
        "        print(v1.dot(v2))\n",
        "    v2 = v2 - m*v1\n",
        "    # 7410790865146821"
      ]
    },
    {
      "cell_type": "markdown",
      "metadata": {
        "id": "G_yeSDP4dmbC"
      },
      "source": [
        "\n",
        "\n",
        "---\n",
        "\n"
      ]
    },
    {
      "cell_type": "markdown",
      "metadata": {
        "id": "zLvos0CSdnRh"
      },
      "source": [
        "## Find the Lattice\n",
        "\n",
        "**-Solution:**\n",
        "\n",
        ". The private key is composed by $f$, $g$ and both smaller than $\\sqrt {\\frac{q}{2}}$, all of them  with the relation of $f \\times h  - g = 0 \\left({\\mod q} \\right)$ .\n",
        "\n",
        ". From this, it means that there is a $k$ such that $fh = qk + g$; since $h$ is about the same size of $q \\Rightarrow k$ is same size of $f, g$.\n",
        "\n",
        ". $f\\cdot(h,1)+(-k)\\cdot(q,1)=(g,f-k)$ where both components of the result are \"small\", so reducing the lattice generated by $(h,1),(q,1)$ give $g$.\n",
        "\n",
        ". It is a bit tricky to solve only by paper, here is the code and dont forget to solve it on sagecell online\n",
        "\n",
        "**-Code:**"
      ]
    },
    {
      "cell_type": "code",
      "execution_count": null,
      "metadata": {
        "id": "T8MDxH78dntb"
      },
      "outputs": [],
      "source": [
        "from Crypto.Util.number import long_to_bytes\n",
        "\n",
        "def decrypt(q, h, f, g, e):\n",
        "    a = (f*e) % q\n",
        "    m = (a*inverse_mod(f, g)) % g\n",
        "    return m\n",
        "\n",
        "def gauss(v1, v2):\n",
        "    while True:\n",
        "        if v2.norm() < v1.norm():\n",
        "            v1, v2 = v2, v1\n",
        "        m = round(v1*v2/(v1*v1))\n",
        "        if m == 0:\n",
        "            return v1, v2\n",
        "        v2 = v2-m*v1\n",
        "\n",
        "h, q = (2163268902194560093843693572170199707501787797497998463462129592239973581462651622978282637513865274199374452805292639586264791317439029535926401109074800, 7638232120454925879231554234011842347641017888219021175304217358715878636183252433454896490677496516149889316745664606749499241420160898019203925115292257)\n",
        "enc_flag = 5605696495253720664142881956908624307570671858477482119657436163663663844731169035682344974286379049123733356009125671924280312532755241162267269123486523\n",
        "\n",
        "g = gauss(vector([q,1]),vector([h,1]))[0][0]\n",
        "f = ZZ(g/GF(q)(h))\n",
        "print(long_to_bytes(decrypt(q,h,f,g,enc_flag)))\n",
        "#b'crypto{Gauss_lattice_attack!}'"
      ]
    },
    {
      "cell_type": "markdown",
      "metadata": {
        "id": "kEq2G9nmdoHs"
      },
      "source": [
        "\n",
        "\n",
        "---\n",
        "\n"
      ]
    },
    {
      "cell_type": "markdown",
      "metadata": {
        "id": "091UY9zsdpIH"
      },
      "source": [
        "## Backpack Cryptography\n",
        "\n",
        "**-Solution:**\n",
        "\n",
        ". The code reads in the public key and the encrypted flag from a file. The public key is a list of integers, and the encrypted flag is an integer.\n",
        "\n",
        ". Then checks that the ratio of the length of the public key to the logarithm of the maximum value in the public key is less than 0.9408. This is a condition for the CJLOSS algorithm to work efficiently.\n",
        "\n",
        ". The sol function checks if a given row of the matrix satisfies a condition. The condition is that each value in the row must be between -1/2 and 1/2.\n",
        "\n",
        ". The encryption function takes a list of integers, multiplies each integer by the corresponding value in the public key, and sums the products to get the encrypted value.\n",
        "\n",
        ". The solve function creates a matrix using the public key and the encrypted flag, and applies the LLL (Lenstra-Lenstra-Lovász) algorithm to the matrix. The LLL algorithm is a lattice reduction algorithm that reduces the basis of a lattice while preserving its important properties. The CJLOSS algorithm is a modification of the LLL algorithm that is used specifically for the CVP.\n",
        "\n",
        ". The function then iterates over each row of the reduced matrix and checks if it satisfies the sol condition. If a row satisfies the condition, the function decrypts the encrypted flag by adding 1/2 to each value in the row, converting the resulting binary string to an integer, and using the long_to_bytes function to convert the integer to ASCII text.\n",
        "\n",
        ". Finally, the code calls the solve function to execute the attack and decrypt the flag.\n",
        "\n",
        "**-Code:**"
      ]
    },
    {
      "cell_type": "code",
      "execution_count": null,
      "metadata": {
        "id": "qOyOgVfwry7W"
      },
      "outputs": [],
      "source": [
        "from Crypto.Util.number import long_to_bytes\n",
        "\n",
        "with open('./output.txt', 'r') as f: # change the file path to where you downloaded the file\n",
        "    pubKey = list(map(int, f.readline().replace(\"Public key: [\", \"\").replace(\"]\\n\", \"\").split(\", \")))\n",
        "    e = int(f.readline().replace(\"Encrypted Flag: \", \"\"))\n",
        "\n",
        "length = len(pubKey)\n",
        "\n",
        "assert length / log(max(pubKey), 2) < 0.9408\n",
        "\n",
        "def sol(row):\n",
        "    for i in range(length):\n",
        "        if not(-1/2 <= row[i] <= 1/2):\n",
        "            return False\n",
        "    return True\n",
        "\n",
        "def encryption(res):\n",
        "    p = 0\n",
        "    for i in range(length):\n",
        "        p += (res[i] * pubKey[i])\n",
        "    return p\n",
        "\n",
        "# Use the CJLOSS algorithm\n",
        "def solve():\n",
        "    m = [[0 for i in range(length + 1)] for i in range(length + 1)]\n",
        "    for i in range(length):\n",
        "        m[i][i] = 1\n",
        "        m[i][length] = pubKey[i]\n",
        "        m[length][i] = -1/2\n",
        "    m[length][length] = -e\n",
        "    M = Matrix(m)\n",
        "    ML = M.LLL()\n",
        "\n",
        "    with open(\"LLL.txt\", \"w\") as f:\n",
        "        f.write(str(ML))\n",
        "\n",
        "    for i in ML:\n",
        "        if sol(i):\n",
        "            message = [(j + 1/2) for j in i[:-1]]\n",
        "            assert encryption(message) == e\n",
        "            message = '0b' + ''.join([str(j) for j in message[::-1]])\n",
        "            print(message)\n",
        "            print(long_to_bytes(int(message, 2)).decode())\n",
        "\n",
        "if __name__ == \"__main__\":\n",
        "    solve()\n",
        "#crypto{my_kn4ps4ck_1s_l1ghtw31ght}"
      ]
    },
    {
      "cell_type": "markdown",
      "metadata": {
        "id": "-MtlDEZAdp0G"
      },
      "source": [
        "\n",
        "\n",
        "---\n",
        "\n"
      ]
    },
    {
      "cell_type": "markdown",
      "metadata": {
        "id": "7TKELwFJeb_j"
      },
      "source": [
        "## Successive Power\n",
        "\n",
        "**-Solution:**\n",
        "\n",
        ". The problem states that the integers in `r` are successive large powers of an integer `x`, modulo a three-digit prime `p`. This means that each element in `r` can be written as `x^k mod p`, where `k` is the index of that element in `r`.\n",
        "\n",
        ". We want to find the value of `x` and `p` that satisfies these equations. We know that `p` is a prime number, so we can use the list of prime numbers `p` provided in the code to narrow down our search.\n",
        "\n",
        ". We can start by filtering out all the prime numbers in `p` that are greater than or equal to the maximum value in `r`. We can do this using the following code:\n",
        "```py\n",
        "primes = list(filter(lambda x:x>max(r),p))\n",
        "```\n",
        "This will give us a list of prime numbers that are large enough to possibly be `p`.\n",
        "\n",
        ".Next, we need to iterate through each of these prime numbers `p`, and for each p, we need to find an `x` that satisfies the three equations. We can do this using the following code:\n",
        "```py\n",
        "def solve():\n",
        "    for p in primes:\n",
        "        for x in range(1,p):\n",
        "            if (588 * x) % p == 665:\n",
        "                if (665 * x) % p == 216:\n",
        "                    if(216 * x) % p == 113:\n",
        "                        print(f\"x:{x} p:{p}\")\n",
        "                        return x,p\n",
        "\n",
        "```\n",
        "This code checks the first equation `(588*x mod p = 665)` for each `x` from 1 to `p-1`. If it finds an `x` that satisfies this equation, it checks the second equation `(665*x mod p = 216)` using that same `x`. If it also satisfies the second equation, it checks the third equation `(216*x mod p = 113)` using that same `x`. If it satisfies all three equations, it prints out the values of `x` and `p` and returns those values.\n",
        "\n",
        "**-Code:**"
      ]
    },
    {
      "cell_type": "code",
      "execution_count": null,
      "metadata": {
        "id": "haDyL7_MecPD"
      },
      "outputs": [],
      "source": [
        "p = [2, 3, 5, 7, 11, 13, 17, 19, 23, 29, 31, 37, 41, 43, 47, 53, 59, 61, 67, 71, 73, 79, 83, 89, 97, 101, 103, 107, 109, 113, 127, 131, 137, 139, 149, 151, 157, 163, 167, 173, 179, 181, 191, 193, 197, 199, 211, 223, 227, 229, 233, 239, 241, 251, 257, 263, 269, 271, 277, 281, 283, 293, 307, 311, 313, 317, 331, 337, 347, 349, 353, 359, 367, 373, 379, 383, 389, 397, 401, 409, 419, 421, 431, 433, 439, 443, 449, 457, 461, 463, 467, 479, 487, 491, 499, 503, 509, 521, 523, 541, 547, 557, 563, 569, 571, 577, 587, 593, 599, 601, 607, 613, 617, 619, 631, 641, 643, 647, 653, 659, 661, 673, 677, 683, 691, 701, 709, 719, 727, 733, 739, 743, 751, 757, 761, 769, 773, 787, 797, 809, 811, 821, 823, 827, 829, 839, 853, 857, 859, 863, 877, 881, 883, 887, 907, 911, 919, 929, 937, 941, 947, 953, 967, 971, 977, 983, 991, 997]\n",
        "r= [588, 665, 216, 113, 642, 4, 836, 114, 851, 492, 819, 237]\n",
        "\n",
        "#filter primes >= max modules\n",
        "primes = list(filter(lambda x:x>max(r),p))\n",
        "\n",
        "def solve():\n",
        "    # check first 3 equations\n",
        "    for p in primes:\n",
        "        for x in range(1,p):\n",
        "            if (588 * x) % p == 665:\n",
        "                if (665 * x) % p == 216:\n",
        "                    if(216 * x) % p == 113:\n",
        "                        print(f\"x:{x} p:{p}\")\n",
        "                        return x,p\n",
        "x,p=solve()\n",
        "#output:x:209 p:919\n",
        "#crypto{919,209}"
      ]
    },
    {
      "cell_type": "markdown",
      "metadata": {
        "id": "gEteCIQeecmW"
      },
      "source": [
        "\n",
        "\n",
        "---\n",
        "\n"
      ]
    },
    {
      "cell_type": "markdown",
      "metadata": {
        "id": "_f4JdY-qedqP"
      },
      "source": [
        "## Adrien's Sign\n",
        "\n",
        "**-Solution:**\n",
        "\n",
        ". Use `Lengendre Symbol` to solve because if it is `quadratic residue`, the bit just can be 1 or not.\n",
        "\n",
        "**-Code:**"
      ]
    },
    {
      "cell_type": "code",
      "execution_count": null,
      "metadata": {
        "id": "geWI1VCKeeC4"
      },
      "outputs": [],
      "source": [
        "arr = [67594220461269, 501237540280788, 718316769824518, 296304224247167, 48290626940198, 30829701196032, 521453693392074, 840985324383794, 770420008897119, 745131486581197, 729163531979577, 334563813238599, 289746215495432, 538664937794468, 894085795317163, 983410189487558, 863330928724430, 996272871140947, 352175210511707, 306237700811584, 631393408838583, 589243747914057, 538776819034934, 365364592128161, 454970171810424, 986711310037393, 657756453404881, 388329936724352, 90991447679370, 714742162831112, 62293519842555, 653941126489711, 448552658212336, 970169071154259, 339472870407614, 406225588145372, 205721593331090, 926225022409823, 904451547059845, 789074084078342, 886420071481685, 796827329208633, 433047156347276, 21271315846750, 719248860593631, 534059295222748, 879864647580512, 918055794962142, 635545050939893, 319549343320339, 93008646178282, 926080110625306, 385476640825005, 483740420173050, 866208659796189, 883359067574584, 913405110264883, 898864873510337, 208598541987988, 23412800024088, 911541450703474, 57446699305445, 513296484586451, 180356843554043, 756391301483653, 823695939808936, 452898981558365, 383286682802447, 381394258915860, 385482809649632, 357950424436020, 212891024562585, 906036654538589, 706766032862393, 500658491083279, 134746243085697, 240386541491998, 850341345692155, 826490944132718, 329513332018620, 41046816597282, 396581286424992, 488863267297267, 92023040998362, 529684488438507, 925328511390026, 524897846090435, 413156582909097, 840524616502482, 325719016994120, 402494835113608, 145033960690364, 43932113323388, 683561775499473, 434510534220939, 92584300328516, 763767269974656, 289837041593468, 11468527450938, 628247946152943, 8844724571683, 813851806959975, 72001988637120, 875394575395153, 70667866716476, 75304931994100, 226809172374264, 767059176444181, 45462007920789, 472607315695803, 325973946551448, 64200767729194, 534886246409921, 950408390792175, 492288777130394, 226746605380806, 944479111810431, 776057001143579, 658971626589122, 231918349590349, 699710172246548, 122457405264610, 643115611310737, 999072890586878, 203230862786955, 348112034218733, 240143417330886, 927148962961842, 661569511006072, 190334725550806, 763365444730995, 516228913786395, 846501182194443, 741210200995504, 511935604454925, 687689993302203, 631038090127480, 961606522916414, 138550017953034, 932105540686829, 215285284639233, 772628158955819, 496858298527292, 730971468815108, 896733219370353, 967083685727881, 607660822695530, 650953466617730, 133773994258132, 623283311953090, 436380836970128, 237114930094468, 115451711811481, 674593269112948, 140400921371770, 659335660634071, 536749311958781, 854645598266824, 303305169095255, 91430489108219, 573739385205188, 400604977158702, 728593782212529, 807432219147040, 893541884126828, 183964371201281, 422680633277230, 218817645778789, 313025293025224, 657253930848472, 747562211812373, 83456701182914, 470417289614736, 641146659305859, 468130225316006, 46960547227850, 875638267674897, 662661765336441, 186533085001285, 743250648436106, 451414956181714, 527954145201673, 922589993405001, 242119479617901, 865476357142231, 988987578447349, 430198555146088, 477890180119931, 844464003254807, 503374203275928, 775374254241792, 346653210679737, 789242808338116, 48503976498612, 604300186163323, 475930096252359, 860836853339514, 994513691290102, 591343659366796, 944852018048514, 82396968629164, 152776642436549, 916070996204621, 305574094667054, 981194179562189, 126174175810273, 55636640522694, 44670495393401, 74724541586529, 988608465654705, 870533906709633, 374564052429787, 486493568142979, 469485372072295, 221153171135022, 289713227465073, 952450431038075, 107298466441025, 938262809228861, 253919870663003, 835790485199226, 655456538877798, 595464842927075, 191621819564547]\n",
        "\n",
        "\n",
        "a = 288260533169915\n",
        "p = 1007621497415251\n",
        "\n",
        "cipher = \"\"\n",
        "for i in arr:\n",
        "    if(pow(i, (p - 1)//2, p) == 1):\n",
        "        cipher += \"1\"\n",
        "    else:\n",
        "        cipher += \"0\"\n",
        "\n",
        "\n",
        "for i in range(0, 224, 8):\n",
        "    binary = cipher[i:i + 8]\n",
        "    print(chr(int(binary,2)),end=\"\")\n",
        "#crypto{p4tterns_1n_re5idu3s}"
      ]
    },
    {
      "cell_type": "markdown",
      "metadata": {
        "id": "16XrravOeefF"
      },
      "source": [
        "\n",
        "\n",
        "---\n",
        "\n"
      ]
    },
    {
      "cell_type": "markdown",
      "metadata": {
        "id": "5WHZo8UPefYU"
      },
      "source": [
        "## Modular Binomials\n",
        "\n",
        "**-Solution:**\n",
        "\n",
        ". Number `N` used in the encryption process is factored into its two prime factors, which are typically denoted as `p` and `q` in RSA encryption.\n",
        "\n",
        ". Factordb is a public database that contains the factorization of many numbers, including RSA moduli. If you search for the N value used in this code on Factordb and find that it is a product of two primes, then you can retrieve the values of p and q and use them to perform the RSA decryption of the encrypted flag."
      ]
    },
    {
      "cell_type": "code",
      "execution_count": null,
      "metadata": {
        "id": "OpjebDPaefzc"
      },
      "outputs": [],
      "source": [
        "#crypto{112274000169258486390262064441991200608556376127408952701514962644340921899196091557519382763356534106376906489445103255177593594898966250176773605432765983897105047795619470659157057093771407309168345670541418772427807148039207489900810013783673957984006269120652134007689272484517805398390277308001719431273 , 132760587806365301971479157072031448380135765794466787456948786731168095877956875295282661565488242190731593282663694728914945967253173047324353981530949360031535707374701705328450856944598803228299967009004598984671293494375599408764139743217465012770376728876547958852025425539298410751132782632817947101601}"
      ]
    },
    {
      "cell_type": "markdown",
      "metadata": {
        "id": "gPwuVzq1DQil"
      },
      "source": [
        "\n",
        "\n",
        "---\n",
        "\n"
      ]
    },
    {
      "cell_type": "markdown",
      "metadata": {
        "id": "pvtDY2w7egEq"
      },
      "source": [
        "## Broken RSA\n",
        "\n",
        "**-Solution:**\n",
        "\n",
        ". $n$ is prime. $e$ is a power of 2, we can we can take consecutive square roots (where possible) to find the $e^{th}$ root.\n",
        "\n",
        "**-Code:**"
      ]
    },
    {
      "cell_type": "code",
      "execution_count": null,
      "metadata": {
        "id": "__J_sfnueu99"
      },
      "outputs": [],
      "source": [
        "from sympy.ntheory.residue_ntheory import sqrt_mod\n",
        "n = 27772857409875257529415990911214211975844307184430241451899407838750503024323367895540981606586709985980003435082116995888017731426634845808624796292507989171497629109450825818587383112280639037484593490692935998202437639626747133650990603333094513531505209954273004473567193235535061942991750932725808679249964667090723480397916715320876867803719301313440005075056481203859010490836599717523664197112053206745235908610484907715210436413015546671034478367679465233737115549451849810421017181842615880836253875862101545582922437858358265964489786463923280312860843031914516061327752183283528015684588796400861331354873\n",
        "\n",
        "ct = 11303174761894431146735697569489134747234975144162172162401674567273034831391936916397234068346115459134602443963604063679379285919302225719050193590179240191429612072131629779948379821039610415099784351073443218911356328815458050694493726951231241096695626477586428880220528001269746547018741237131741255022371957489462380305100634600499204435763201371188769446054925748151987175656677342779043435047048130599123081581036362712208692748034620245590448762406543804069935873123161582756799517226666835316588896306926659321054276507714414876684738121421124177324568084533020088172040422767194971217814466953837590498718\n",
        "\n",
        "for a in sqrt_mod(ct, n, all_roots=True):\n",
        "    for b in sqrt_mod(a, n, all_roots=True):\n",
        "        for c in sqrt_mod(b, n, all_roots=True):\n",
        "            for d in sqrt_mod(c, n, all_roots=True):\n",
        "                try:\n",
        "                    print(bytes.fromhex(hex(d)[2:]).decode())\n",
        "                except:\n",
        "                    continue\n",
        "#crypto{m0dul4r_squ4r3_r00t}"
      ]
    },
    {
      "cell_type": "markdown",
      "metadata": {
        "id": "Db6fEJY5DUJb"
      },
      "source": [
        "\n",
        "\n",
        "---\n",
        "\n"
      ]
    },
    {
      "cell_type": "markdown",
      "metadata": {
        "id": "hX8gfHCZevZ_"
      },
      "source": [
        "## No Way Back Home\n",
        "\n",
        "**-Solution:**\n",
        "\n",
        ". The problem is kinda simple, you just need to know some basic stuffs like below: \n",
        "\n",
        "$v=v⋅b⋅b^{−1} (mod n)=v⋅a⋅a^{−1} (mod n)$\n",
        "\n",
        "\n",
        "$va⋅vb≡vab⋅v (mod n)$\n",
        "\n",
        "$ v≡va⋅vb⋅(vab)−1 (mod n ) $\n",
        "\n",
        ". Then, approach through this code\n",
        "\n",
        "**_Code:**"
      ]
    },
    {
      "cell_type": "code",
      "execution_count": null,
      "metadata": {
        "id": "IAPCfbUfeyM4"
      },
      "outputs": [],
      "source": [
        "from Crypto.Cipher import AES\n",
        "from hashlib import sha256\n",
        "from Crypto.Util.number import long_to_bytes\n",
        "\n",
        "# output\n",
        "p, q = (10699940648196411028170713430726559470427113689721202803392638457920771439452897032229838317321639599506283870585924807089941510579727013041135771337631951, 11956676387836512151480744979869173960415735990945471431153245263360714040288733895951317727355037104240049869019766679351362643879028085294045007143623763) \n",
        "n = p*q\n",
        "va = 124641741967121300068241280971408306625050636261192655845274494695382484894973990899018981438824398885984003880665335336872849819983045790478166909381968949910717906136475842568208640203811766079825364974168541198988879036997489130022151352858776555178444457677074095521488219905950926757695656018450299948207 \n",
        "vab = 114778245184091677576134046724609868204771151111446457870524843414356897479473739627212552495413311985409829523700919603502616667323311977056345059189257932050632105761365449853358722065048852091755612586569454771946427631498462394616623706064561443106503673008210435922340001958432623802886222040403262923652 \n",
        "vb = 6568897840127713147382345832798645667110237168011335640630440006583923102503659273104899584827637961921428677335180620421654712000512310008036693022785945317428066257236409339677041133038317088022368203160674699948914222030034711433252914821805540365972835274052062305301998463475108156010447054013166491083 \n",
        "c = 'fef29e5ff72f28160027959474fc462e2a9e0b2d84b1508f7bd0e270bc98fac942e1402aa12db6e6a36fb380e7b53323' \n",
        "\n",
        "v = (va * vb * pow(vab, -1, q)) % n\n",
        "\n",
        "key = sha256(long_to_bytes(v)).digest()\n",
        "print(AES.new(key, AES.MODE_ECB).decrypt(bytes.fromhex(c)))\n",
        "#crypto{1nv3rt1bl3_k3y_3xch4ng3_pr0t0c0l}"
      ]
    },
    {
      "cell_type": "markdown",
      "metadata": {
        "id": "tPWrhvbreyfi"
      },
      "source": [
        "\n",
        "\n",
        "---\n",
        "\n"
      ]
    },
    {
      "cell_type": "markdown",
      "metadata": {
        "id": "hFfYRwWMezYf"
      },
      "source": [
        "## Ellipse Curve Cryptography\n",
        "\n",
        "**-Solution:**\n",
        "\n",
        ". The script defines a named tuple Point to represent a point on the elliptic curve. It has two fields, x and y.\n",
        "\n",
        ". First, the script defines the function `point_addition(P, Q)` to compute the sum of two points on the curve using the group law for elliptic curves. It takes two Point objects P and Q as arguments and returns a new Point object representing their sum.\n",
        "\n",
        ". Later, the script defines the function `scalar_multiplication(P, n)` to compute the scalar multiple of a point on the curve. It takes a Point object P and an integer n as arguments and returns a new Point object representing the product nP.\n",
        "\n",
        ". The script defines the function `gen_shared_secret(P, d)` to generate a shared secret between two parties. It takes a Point object P and an integer d as arguments and returns an integer representing the x-coordinate of the scalar multiple dP.\n",
        "\n",
        ". The script defines several constants, including the prime modulus p, the constant D, and three points G, A, and B on the elliptic curve.\n",
        "\n",
        ". Then, it computes the value g = G.x - Dsqrt*G.y, where Dsqrt is the square root of D, and the value h = A.x - Dsqrt*A.y.\n",
        "\n",
        ". The script computes the discrete logarithm of h with respect to g using the function `discrete_log()` from the `sage.crypto.util module`. The result is stored in the variable n_a.\n",
        "\n",
        ". The script uses the private key `n_a` to generate a shared secret with the other party, which is represented as a Point object B. The shared secret is computed using the `gen_shared_secret()` function.\n",
        "\n",
        ". The script computes the encryption key by hashing the shared secret with SHA-1 and taking the first 16 bytes of the result.\n",
        "\n",
        ". The script initializes the CBC decryption cipher with the key, IV, and encrypted flag.\n",
        "\n",
        ".The script decrypts the flag using `unpad()` from the `Crypto.Util.Padding` module and outputs it to the console.\n",
        "\n",
        "**-Code:**\n"
      ]
    },
    {
      "cell_type": "code",
      "execution_count": null,
      "metadata": {
        "id": "VAm7Wb24ez1u"
      },
      "outputs": [],
      "source": [
        "from Crypto.Cipher import AES\n",
        "from Crypto.Util.Padding import unpad\n",
        "from hashlib import sha1\n",
        "from collections import namedtuple\n",
        "Point = namedtuple(\"Point\", \"x y\")\n",
        "\n",
        "# reused code from the challenge\n",
        "def point_addition(P, Q):\n",
        "    Rx = (P.x*Q.x + D*P.y*Q.y) % p\n",
        "    Ry = (P.x*Q.y + P.y*Q.x) % p\n",
        "    return Point(Rx, Ry)\n",
        "\n",
        "def scalar_multiplication(P, n):\n",
        "    Q = Point(1, 0)\n",
        "    while n > 0:\n",
        "        if n % 2 == 1:\n",
        "            Q = point_addition(Q, P)\n",
        "        P = point_addition(P, P)\n",
        "        n = n//2\n",
        "    return Q\n",
        "\n",
        "def gen_shared_secret(P, d):\n",
        "    return scalar_multiplication(P, d).x\n",
        "\n",
        "# parameters and public data\n",
        "p = 173754216895752892448109692432341061254596347285717132408796456167143559\n",
        "D = 529\n",
        "Dsqrt = 23 # 23^2 = 529\n",
        "G = Point(29394812077144852405795385333766317269085018265469771684226884125940148,\n",
        "          94108086667844986046802106544375316173742538919949485639896613738390948)\n",
        "A = Point(155781055760279718382374741001148850818103179141959728567110540865590463,\n",
        "          73794785561346677848810778233901832813072697504335306937799336126503714)\n",
        "B = Point(171226959585314864221294077932510094779925634276949970785138593200069419,\n",
        "          54353971839516652938533335476115503436865545966356461292708042305317630)\n",
        "\n",
        "# transfering the discrete log and solving it\n",
        "# (note: p-1 is smooth so it's very fast to compute)\n",
        "g = G.x - Dsqrt*G.y\n",
        "h = A.x - Dsqrt*A.y\n",
        "n_a = discrete_log(GF(p)(h), GF(p)(g))\n",
        "\n",
        "# finally, we extract the flag\n",
        "shared_secret = gen_shared_secret(B, n_a)\n",
        "key = sha1(str(shared_secret).encode('ascii')).digest()[:16]\n",
        "iv = bytes.fromhex('64bc75c8b38017e1397c46f85d4e332b')\n",
        "encrypted_flag = bytes.fromhex('13e4d200708b786d8f7c3bd2dc5de0201f0d7879192e6603d7c5d6b963e1df2943e3ff75f7fda9c30a92171bbbc5acbf')\n",
        "cipher = AES.new(key, AES.MODE_CBC, iv)\n",
        "flag = unpad(cipher.decrypt(encrypted_flag), 16).decode()\n",
        "print(f'{flag}')\n",
        "#crypto{c0n1c_s3ct10n5_4r3_f1n1t3_gr0up5}"
      ]
    },
    {
      "cell_type": "markdown",
      "metadata": {
        "id": "i-Xc-TJAe6MM"
      },
      "source": [
        "\n",
        "\n",
        "---\n",
        "\n"
      ]
    },
    {
      "cell_type": "markdown",
      "metadata": {
        "id": "zHYGe-2be6ua"
      },
      "source": [
        "## Roll Your Own\n",
        "\n",
        "**-Solution:**\n",
        "\n",
        ".The script sends and receives data in JSON format. The server sends the value of q as a hexadecimal string, which is then converted to an integer using int(q, 16). The script computes the values of g and n, and sends them to the server in a JSON message using json_send().\n",
        "\n",
        ". The server then sends the value of h as a hexadecimal string, which is also converted to an integer. The script computes the value of x using the equation h = qx + 1, and sends x to the server to receive the flag.\n",
        "\n",
        ". Finally, the script prints the flag received from the server.\n",
        "\n",
        "**-Code:**"
      ]
    },
    {
      "cell_type": "code",
      "execution_count": null,
      "metadata": {
        "colab": {
          "background_save": true
        },
        "id": "_pV8FYu-e7AF"
      },
      "outputs": [],
      "source": [
        "import telnetlib\n",
        "import json\n",
        "\n",
        "r = telnetlib.Telnet(\"socket.cryptohack.org\", 13403)\n",
        "\n",
        "def readline():\n",
        "    return r.read_until(b\"\\n\")\n",
        "\n",
        "def json_send(hsh):\n",
        "    request = json.dumps(hsh).encode()\n",
        "    r.write(request)\n",
        "\n",
        "#read q\n",
        "q = readline().split()[-1].decode()[1:-1]\n",
        "q = int(q, 16)\n",
        "\n",
        "#send g and n\n",
        "g = q+1\n",
        "n = q**2\n",
        "json_send({\"g\":hex(g), \"n\":hex(n)})\n",
        "\n",
        "#receive h\n",
        "h = readline().split()[-1].decode()[1:-1]\n",
        "h = int(h, 16)\n",
        "\n",
        "# h = (q+1)^x mod q^2\n",
        "# h = qx + 1\n",
        "x = (h-1)//q\n",
        "\n",
        "#send x to get flag\n",
        "json_send({\"x\":hex(x)})\n",
        "print(readline().decode())\n",
        "#crypto{Grabbing_Flags_with_Pascal_Paillier}"
      ]
    },
    {
      "cell_type": "markdown",
      "metadata": {
        "id": "bj8gzEAWe7Xk"
      },
      "source": [
        "\n",
        "\n",
        "---\n",
        "\n"
      ]
    },
    {
      "cell_type": "markdown",
      "metadata": {
        "id": "_Ww0Fnkpe8IA"
      },
      "source": [
        "## Unencryptable\n",
        "\n",
        "**-Solution:**\n",
        "\n",
        ".This is normal RSA decrypt. \n",
        "\n",
        ". First, factorize $N$, we know that $N$ is a product of 2 primes $p$ and $q$. Then calculate totient $\\phi(N)$, in this case,  just calculate $\\phi(N) = (p - 1) \\times (q - 1)$. Calculate $d = e^{-1} \\mod phi$ and $m = c^d \\mod N$.\n",
        "\n",
        "**-Code:**"
      ]
    },
    {
      "cell_type": "code",
      "execution_count": null,
      "metadata": {
        "id": "pOnUGZdme8ec"
      },
      "outputs": [],
      "source": [
        "from Crypto.Util.number import long_to_bytes, inverse\n",
        "from factordb.factordb import FactorDB\n",
        "\n",
        "N = 0x7fe8cafec59886e9318830f33747cafd200588406e7c42741859e15994ab62410438991ab5d9fc94f386219e3c27d6ffc73754f791e7b2c565611f8fe5054dd132b8c4f3eadcf1180cd8f2a3cc756b06996f2d5b67c390adcba9d444697b13d12b2badfc3c7d5459df16a047ca25f4d18570cd6fa727aed46394576cfdb56b41\n",
        "e = 0x10001\n",
        "c = 0x5233da71cc1dc1c5f21039f51eb51c80657e1af217d563aa25a8104a4e84a42379040ecdfdd5afa191156ccb40b6f188f4ad96c58922428c4c0bc17fd5384456853e139afde40c3f95988879629297f48d0efa6b335716a4c24bfee36f714d34a4e810a9689e93a0af8502528844ae578100b0188a2790518c695c095c9d677b\n",
        "\n",
        "f = FactorDB(N)\n",
        "f.connect()\n",
        "arr = f.get_factor_from_api()\n",
        "phi = (int(arr[0][0]) - 1) * (int(arr[1][0]) - 1)\n",
        "d = inverse(e, phi)\n",
        "m = pow(c, d, N)\n",
        "print(long_to_bytes(m))\n",
        "#crypto{R3m3mb3r!_F1x3d_P0iNts_aR3_s3crE7s_t00}"
      ]
    },
    {
      "cell_type": "markdown",
      "metadata": {
        "id": "0vcIPptze8wN"
      },
      "source": [
        "\n",
        "\n",
        "---\n",
        "\n"
      ]
    },
    {
      "cell_type": "markdown",
      "metadata": {
        "id": "YrC0iam3e9_g"
      },
      "source": [
        "## Cofactor Cofantasy\n",
        "\n",
        "**-Solution:**\n",
        "\n",
        ". Using binary search algorithm to recover a flag that is obscured with a \"noisy\" bitstring. The test(i) function receives an index i and sends a request to a remote server to get the value of a specific bit of the obscured flag. It then verifies the bit value by checking if g^((phi/2^e) mod b) is equal to res^((phi/2^e) mod b), where g, phi, e, and b are constants, and res is the value of the requested bit.\n",
        "\n",
        ". The a and b variables are computed by taking the greatest common divisor of N and sq+1 and sq-1, respectively, where sq is g^(phi/2^e) mod N. Finally, the code iterates over each byte of the flag, recovering the value of each bit using the test(i) function, and assembling the final flag.\n",
        "\n",
        "**-Code:**"
      ]
    },
    {
      "cell_type": "code",
      "execution_count": null,
      "metadata": {
        "colab": {
          "background_save": true
        },
        "id": "kfyW0lHNe9kh"
      },
      "outputs": [],
      "source": [
        "from sage.all import *\n",
        "from pwn import *\n",
        "import json\n",
        "\n",
        "N = 56135841374488684373258694423292882709478511628224823806418810596720294684253418942704418179091997825551647866062286502441190115027708222460662070779175994701788428003909010382045613207284532791741873673703066633119446610400693458529100429608337219231960657953091738271259191554117313396642763210860060639141073846574854063639566514714132858435468712515314075072939175199679898398182825994936320483610198366472677612791756619011108922142762239138617449089169337289850195216113264566855267751924532728815955224322883877527042705441652709430700299472818705784229370198468215837020914928178388248878021890768324401897370624585349884198333555859109919450686780542004499282760223378846810870449633398616669951505955844529109916358388422428604135236531474213891506793466625402941248015834590154103947822771207939622459156386080305634677080506350249632630514863938445888806223951124355094468682539815309458151531117637927820629042605402188751144912274644498695897277\n",
        "phi = 56135841374488684373258694423292882709478511628224823806413974550086974518248002462797814062141189227167574137989180030483816863197632033192968896065500768938801786598807509315219962138010136188406833851300860971268861927441791178122071599752664078796430411769850033154303492519678490546174370674967628006608839214466433919286766123091889446305984360469651656535210598491300297553925477655348454404698555949086705347702081589881912691966015661120478477658546912972227759596328813124229023736041312940514530600515818452405627696302497023443025538858283667214796256764291946208723335591637425256171690058543567732003198060253836008672492455078544449442472712365127628629283773126365094146350156810594082935996208856669620333251443999075757034938614748482073575647862178964169142739719302502938881912008485968506720505975584527371889195388169228947911184166286132699532715673539451471005969465570624431658644322366653686517908000327238974943675848531974674382848\n",
        "g = 986762276114520220801525811758560961667498483061127810099097\n",
        "\n",
        "r = remote(\"socket.cryptohack.org\",13398, level = 'INFO')\n",
        "length = len(b\"crypto{???????????????????????????????????}\")\n",
        "\n",
        "def json_recv():\n",
        "    line = r.recvline()\n",
        "    return json.loads(line.decode())\n",
        "\n",
        "def json_send(hsh):\n",
        "    request = json.dumps(hsh).encode()\n",
        "    r.sendline(request)\n",
        "\n",
        "def test(i):\n",
        "    repeat = 2 #This has some chance to fail getting the right answer.\n",
        "    ans = True\n",
        "    for _ in range(repeat):\n",
        "        json_send({\"option\":\"get_bit\",\"i\":i})\n",
        "        res = int(json_recv()[\"bit\"],16)\n",
        "        if not pow(g, phi//(2**e), b) == pow(res, phi//(2**e), b):\n",
        "            ans = False\n",
        "    return ans\n",
        "e = 16 #exponent of 2 in phi\n",
        "sq = pow(g,phi//(2**e), N)\n",
        "a = gcd(N, sq+1)\n",
        "b = gcd(N, sq-1)\n",
        "print(a*b == N)\n",
        "\n",
        "r.recvline()\n",
        "ans = \"\"\n",
        "for i in range(length):\n",
        "    c = 0\n",
        "    for j in range(8):\n",
        "        k = 8*i + j\n",
        "        if test(k): c += (1<<j)\n",
        "    ans += chr(c)\n",
        "    print(ans)\n",
        "#crypto{0ver3ng1neering_ch4lleng3_s0lution$}"
      ]
    },
    {
      "cell_type": "markdown",
      "metadata": {
        "id": "QnWH6zvEe-Xi"
      },
      "source": [
        "\n",
        "\n",
        "---\n",
        "\n"
      ]
    },
    {
      "cell_type": "markdown",
      "metadata": {
        "id": "4HUFHdDre_TP"
      },
      "source": [
        "## Real Eisenstein\n",
        "\n",
        "**-Solution:**\n",
        "\n",
        ".The message is initially represented as a string FLAG, and a list of small primes PRIMES is defined. The target value h is a large integer.\n",
        "\n",
        ". The factors of each prime in PRIMES are multiplied by 16**64 and stored in a list factors. The values in factors are then combined with some additional values to create a set of n numbers in sumset.\n",
        "\n",
        ". A matrix M is created with n rows and n+1 columns. Each row contains N copies of an element from sumset followed by a coefficient of 1, except for the last row, which contains N copies of the value h followed by a coefficient of 1/2.\n",
        "\n",
        ". The LLL algorithm is used to find a \"short\" vector in the lattice spanned by the rows of M. The shortest vector is identified by searching for a row with integer coefficients, except for the last coefficient, which is a rational number with denominator 2. The corresponding row encodes the solution to the hidden message.\n",
        "\n",
        ". The solution is then reconstructed by computing the binary values of the coefficients for each of the len(PRIMES) factors in the solution vector. These binary values are then combined to form the recovered byte array.\n",
        "\n",
        ". Note that this code uses the SageMath library, so use Sage cell online\n",
        "\n",
        "\n",
        "**-Code:**"
      ]
    },
    {
      "cell_type": "code",
      "execution_count": null,
      "metadata": {
        "id": "S2manbGle_n2"
      },
      "outputs": [],
      "source": [
        "import math\n",
        "from decimal import *\n",
        "getcontext().prec = int(100)\n",
        "\n",
        "FLAG = \"crypto{???????????????}\"\n",
        "PRIMES = [2, 3, 5, 7, 11, 13, 17, 19, 23, 29, 31, 37, 41, 43, 47, 53, 59, 61, 67, 71, 73, 79, 83, 89, 97, 101, 103]\n",
        "\n",
        "h = 1350995397927355657956786955603012410260017344805998076702828160316695004588429433\n",
        "factors = [ZZ(int(Decimal(int(PRIMES[i])).sqrt()*int(16**64))) for i in range(len(FLAG))]\n",
        "sumset = [2**i * f for f in factors + [2, 128, -2, -128] for i in range(7)]\n",
        "n = len(sumset) + 1\n",
        "N = 10\n",
        "M = Matrix(QQ, [[0] * i + [1] + [0] * (n - i - 2) + [N * sumset[i]] for i in range(n - 1)] + [[QQ(0.5)] * (n - 1) + [N * h]])\n",
        "row = [r for r in M.LLL() if r[-1] == 0 and all(x in [QQ(0.5), QQ(-0.5)] for x in r[:-1])][0]\n",
        "\n",
        "r = []\n",
        "for i, f in enumerate(factors):\n",
        "    r.append(sum((1 - int(row[7*i + j] + QQ(0.5))) * 2**j for j in range(7)))\n",
        "print(bytes(r))\n",
        "#crypto{r34l_t0_23D_m4p}"
      ]
    },
    {
      "cell_type": "markdown",
      "metadata": {
        "id": "99_2ZSk8DHtl"
      },
      "source": [
        "\n",
        "\n",
        "---\n",
        "\n"
      ]
    },
    {
      "cell_type": "markdown",
      "metadata": {
        "id": "IVpE_8Doe_8r"
      },
      "source": [
        "## Prime and Prejudice"
      ]
    },
    {
      "cell_type": "markdown",
      "source": [
        "**-Solution:**\n",
        ". Using Miller-Rabin to check the primes. Because this algorithm works on probability, therefore, there will be some pseudoprimes can surpass, and our job is to find them, its form would be`a*b*c`.\n",
        "\n",
        ". Afer hours doing that, we will get sth like this `{prime:xxxxxxxx,base:xxxxxxxxx}`, send that after you log in the socket.\n",
        "\n",
        "**-Code:**"
      ],
      "metadata": {
        "id": "buAtJJnlqQsZ"
      }
    },
    {
      "cell_type": "code",
      "execution_count": null,
      "metadata": {
        "id": "He4BIXtsfS2Y"
      },
      "outputs": [],
      "source": [
        "#crypto{Forging_Primes_with_Francois_Arnault}"
      ]
    }
  ],
  "metadata": {
    "colab": {
      "provenance": []
    },
    "kernelspec": {
      "display_name": "Python 3",
      "name": "python3"
    },
    "language_info": {
      "name": "python"
    }
  },
  "nbformat": 4,
  "nbformat_minor": 0
}
